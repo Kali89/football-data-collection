{
 "cells": [
  {
   "cell_type": "code",
   "execution_count": 1,
   "metadata": {},
   "outputs": [
    {
     "name": "stderr",
     "output_type": "stream",
     "text": [
      "/usr/local/lib/python3.7/site-packages/psycopg2/__init__.py:144: UserWarning: The psycopg2 wheel package will be renamed from release 2.8; in order to keep installing from binary please use \"pip install psycopg2-binary\" instead. For details see: <http://initd.org/psycopg/docs/install.html#binary-install-from-pypi>.\n",
      "  \"\"\")\n"
     ]
    }
   ],
   "source": [
    "import psycopg2\n",
    "import matplotlib\n",
    "%matplotlib inline\n",
    "from matplotlib import pyplot as plt\n",
    "import pandas as pd\n",
    "import numpy as np\n",
    "import seaborn as sns"
   ]
  },
  {
   "cell_type": "code",
   "execution_count": 2,
   "metadata": {},
   "outputs": [],
   "source": [
    "conn = psycopg2.connect(\"dbname=football\")\n",
    "cur = conn.cursor()\n",
    "\n",
    "sql = \"\"\"\n",
    "SELECT\n",
    "match.id,\n",
    "country_id,\n",
    "league_id,\n",
    "season,\n",
    "date,\n",
    "home_team_api_id,\n",
    "a.team_long_name AS home_team_long_name,\n",
    "away_team_api_id,\n",
    "b.team_long_name AS away_team_long_name,\n",
    "home_team_goal,\n",
    "away_team_goal,\n",
    "goal\n",
    "FROM\n",
    "MATCH\n",
    "INNER JOIN\n",
    "team a\n",
    "ON match.home_team_api_id = a.team_api_id\n",
    "INNER JOIN\n",
    "team b\n",
    "ON match.away_team_api_id = b.team_api_id\n",
    "WHERE goal IS NOT NULL;\n",
    "\"\"\"\n",
    "\n",
    "cur.execute(sql)\n",
    "\n",
    "results = cur.fetchall()\n",
    "colnames = [desc[0] for desc in cur.description]\n",
    "conn.close()"
   ]
  },
  {
   "cell_type": "code",
   "execution_count": 3,
   "metadata": {},
   "outputs": [
    {
     "data": {
      "text/plain": [
       "(7753,\n",
       " 6,\n",
       " 8,\n",
       " '2013/2014',\n",
       " '2014-03-29 00:00:00',\n",
       " 8472,\n",
       " 'Sunderland',\n",
       " 8654,\n",
       " 'West Ham',\n",
       " 1,\n",
       " 2,\n",
       " '<goal><value><event_incident_typefk>406</event_incident_typefk><elapsed>10</elapsed><comment>n</comment><sortorder>1</sortorder><type>goal</type><subtype>header</subtype><goal_type>n</goal_type><team>8654</team><player2>37169</player2><player1>47382</player1><stats><goals>1</goals><shoton>1</shoton></stats><id>3357995</id><n>202</n></value><value><event_incident_typefk>414</event_incident_typefk><elapsed>50</elapsed><comment>n</comment><sortorder>3</sortorder><type>goal</type><subtype>deflected</subtype><goal_type>n</goal_type><team>8654</team><player1>40015</player1><player2>47382</player2><stats><goals>1</goals><shoton>1</shoton></stats><id>3358213</id><n>235</n></value><value><event_incident_typefk>393</event_incident_typefk><elapsed>65</elapsed><comment>n</comment><sortorder>1</sortorder><type>goal</type><subtype>shot</subtype><goal_type>n</goal_type><team>8472</team><player1>24159</player1><player2>25075</player2><stats><goals>1</goals><shoton>1</shoton></stats><id>3358283</id><n>256</n></value></goal>')"
      ]
     },
     "execution_count": 3,
     "metadata": {},
     "output_type": "execute_result"
    }
   ],
   "source": [
    "results[0]"
   ]
  },
  {
   "cell_type": "code",
   "execution_count": 4,
   "metadata": {},
   "outputs": [
    {
     "data": {
      "text/plain": [
       "6711"
      ]
     },
     "execution_count": 4,
     "metadata": {},
     "output_type": "execute_result"
    }
   ],
   "source": [
    "len(results)"
   ]
  },
  {
   "cell_type": "code",
   "execution_count": 5,
   "metadata": {},
   "outputs": [
    {
     "data": {
      "text/plain": [
       "['id',\n",
       " 'country_id',\n",
       " 'league_id',\n",
       " 'season',\n",
       " 'date',\n",
       " 'home_team_api_id',\n",
       " 'home_team_long_name',\n",
       " 'away_team_api_id',\n",
       " 'away_team_long_name',\n",
       " 'home_team_goal',\n",
       " 'away_team_goal',\n",
       " 'goal']"
      ]
     },
     "execution_count": 5,
     "metadata": {},
     "output_type": "execute_result"
    }
   ],
   "source": [
    "colnames"
   ]
  },
  {
   "cell_type": "code",
   "execution_count": 6,
   "metadata": {},
   "outputs": [
    {
     "data": {
      "text/html": [
       "<div>\n",
       "<style scoped>\n",
       "    .dataframe tbody tr th:only-of-type {\n",
       "        vertical-align: middle;\n",
       "    }\n",
       "\n",
       "    .dataframe tbody tr th {\n",
       "        vertical-align: top;\n",
       "    }\n",
       "\n",
       "    .dataframe thead th {\n",
       "        text-align: right;\n",
       "    }\n",
       "</style>\n",
       "<table border=\"1\" class=\"dataframe\">\n",
       "  <thead>\n",
       "    <tr style=\"text-align: right;\">\n",
       "      <th></th>\n",
       "      <th>id</th>\n",
       "      <th>country_id</th>\n",
       "      <th>league_id</th>\n",
       "      <th>season</th>\n",
       "      <th>date</th>\n",
       "      <th>home_team_api_id</th>\n",
       "      <th>home_team_long_name</th>\n",
       "      <th>away_team_api_id</th>\n",
       "      <th>away_team_long_name</th>\n",
       "      <th>home_team_goal</th>\n",
       "      <th>away_team_goal</th>\n",
       "      <th>goal</th>\n",
       "    </tr>\n",
       "  </thead>\n",
       "  <tbody>\n",
       "    <tr>\n",
       "      <th>0</th>\n",
       "      <td>7753</td>\n",
       "      <td>6</td>\n",
       "      <td>8</td>\n",
       "      <td>2013/2014</td>\n",
       "      <td>2014-03-29 00:00:00</td>\n",
       "      <td>8472</td>\n",
       "      <td>Sunderland</td>\n",
       "      <td>8654</td>\n",
       "      <td>West Ham</td>\n",
       "      <td>1</td>\n",
       "      <td>2</td>\n",
       "      <td>&lt;goal&gt;&lt;value&gt;&lt;event_incident_typefk&gt;406&lt;/event...</td>\n",
       "    </tr>\n",
       "    <tr>\n",
       "      <th>1</th>\n",
       "      <td>7766</td>\n",
       "      <td>6</td>\n",
       "      <td>8</td>\n",
       "      <td>2013/2014</td>\n",
       "      <td>2014-04-12 00:00:00</td>\n",
       "      <td>10194</td>\n",
       "      <td>Stoke</td>\n",
       "      <td>10261</td>\n",
       "      <td>Newcastle United</td>\n",
       "      <td>1</td>\n",
       "      <td>0</td>\n",
       "      <td>&lt;goal&gt;&lt;value&gt;&lt;event_incident_typefk&gt;407&lt;/event...</td>\n",
       "    </tr>\n",
       "    <tr>\n",
       "      <th>2</th>\n",
       "      <td>7765</td>\n",
       "      <td>6</td>\n",
       "      <td>8</td>\n",
       "      <td>2013/2014</td>\n",
       "      <td>2014-05-04 00:00:00</td>\n",
       "      <td>10260</td>\n",
       "      <td>Manchester United</td>\n",
       "      <td>8667</td>\n",
       "      <td>Hull</td>\n",
       "      <td>3</td>\n",
       "      <td>1</td>\n",
       "      <td>&lt;goal&gt;&lt;value&gt;&lt;event_incident_typefk&gt;411&lt;/event...</td>\n",
       "    </tr>\n",
       "    <tr>\n",
       "      <th>3</th>\n",
       "      <td>7754</td>\n",
       "      <td>6</td>\n",
       "      <td>8</td>\n",
       "      <td>2013/2014</td>\n",
       "      <td>2014-03-29 00:00:00</td>\n",
       "      <td>10194</td>\n",
       "      <td>Stoke</td>\n",
       "      <td>8667</td>\n",
       "      <td>Hull</td>\n",
       "      <td>1</td>\n",
       "      <td>0</td>\n",
       "      <td>&lt;goal&gt;&lt;value&gt;&lt;event_incident_typefk&gt;80&lt;/event_...</td>\n",
       "    </tr>\n",
       "    <tr>\n",
       "      <th>4</th>\n",
       "      <td>8472</td>\n",
       "      <td>6</td>\n",
       "      <td>8</td>\n",
       "      <td>2012/2013</td>\n",
       "      <td>2012-12-01 00:00:00</td>\n",
       "      <td>9850</td>\n",
       "      <td>Norwich</td>\n",
       "      <td>8472</td>\n",
       "      <td>Sunderland</td>\n",
       "      <td>2</td>\n",
       "      <td>1</td>\n",
       "      <td>&lt;goal&gt;&lt;value&gt;&lt;event_incident_typefk&gt;393&lt;/event...</td>\n",
       "    </tr>\n",
       "  </tbody>\n",
       "</table>\n",
       "</div>"
      ],
      "text/plain": [
       "     id  country_id  league_id     season                 date  \\\n",
       "0  7753           6          8  2013/2014  2014-03-29 00:00:00   \n",
       "1  7766           6          8  2013/2014  2014-04-12 00:00:00   \n",
       "2  7765           6          8  2013/2014  2014-05-04 00:00:00   \n",
       "3  7754           6          8  2013/2014  2014-03-29 00:00:00   \n",
       "4  8472           6          8  2012/2013  2012-12-01 00:00:00   \n",
       "\n",
       "   home_team_api_id home_team_long_name  away_team_api_id away_team_long_name  \\\n",
       "0              8472          Sunderland              8654            West Ham   \n",
       "1             10194               Stoke             10261    Newcastle United   \n",
       "2             10260   Manchester United              8667                Hull   \n",
       "3             10194               Stoke              8667                Hull   \n",
       "4              9850             Norwich              8472          Sunderland   \n",
       "\n",
       "   home_team_goal  away_team_goal  \\\n",
       "0               1               2   \n",
       "1               1               0   \n",
       "2               3               1   \n",
       "3               1               0   \n",
       "4               2               1   \n",
       "\n",
       "                                                goal  \n",
       "0  <goal><value><event_incident_typefk>406</event...  \n",
       "1  <goal><value><event_incident_typefk>407</event...  \n",
       "2  <goal><value><event_incident_typefk>411</event...  \n",
       "3  <goal><value><event_incident_typefk>80</event_...  \n",
       "4  <goal><value><event_incident_typefk>393</event...  "
      ]
     },
     "execution_count": 6,
     "metadata": {},
     "output_type": "execute_result"
    }
   ],
   "source": [
    "df = pd.DataFrame(results, columns=colnames)\n",
    "df.head()"
   ]
  },
  {
   "cell_type": "code",
   "execution_count": 7,
   "metadata": {},
   "outputs": [
    {
     "data": {
      "text/plain": [
       "'<goal><value><event_incident_typefk>406</event_incident_typefk><elapsed>10</elapsed><comment>n</comment><sortorder>1</sortorder><type>goal</type><subtype>header</subtype><goal_type>n</goal_type><team>8654</team><player2>37169</player2><player1>47382</player1><stats><goals>1</goals><shoton>1</shoton></stats><id>3357995</id><n>202</n></value><value><event_incident_typefk>414</event_incident_typefk><elapsed>50</elapsed><comment>n</comment><sortorder>3</sortorder><type>goal</type><subtype>deflected</subtype><goal_type>n</goal_type><team>8654</team><player1>40015</player1><player2>47382</player2><stats><goals>1</goals><shoton>1</shoton></stats><id>3358213</id><n>235</n></value><value><event_incident_typefk>393</event_incident_typefk><elapsed>65</elapsed><comment>n</comment><sortorder>1</sortorder><type>goal</type><subtype>shot</subtype><goal_type>n</goal_type><team>8472</team><player1>24159</player1><player2>25075</player2><stats><goals>1</goals><shoton>1</shoton></stats><id>3358283</id><n>256</n></value></goal>'"
      ]
     },
     "execution_count": 7,
     "metadata": {},
     "output_type": "execute_result"
    }
   ],
   "source": [
    "df.head(1).goal.values[0]"
   ]
  },
  {
   "cell_type": "code",
   "execution_count": 8,
   "metadata": {},
   "outputs": [
    {
     "data": {
      "text/html": [
       "<div>\n",
       "<style scoped>\n",
       "    .dataframe tbody tr th:only-of-type {\n",
       "        vertical-align: middle;\n",
       "    }\n",
       "\n",
       "    .dataframe tbody tr th {\n",
       "        vertical-align: top;\n",
       "    }\n",
       "\n",
       "    .dataframe thead th {\n",
       "        text-align: right;\n",
       "    }\n",
       "</style>\n",
       "<table border=\"1\" class=\"dataframe\">\n",
       "  <thead>\n",
       "    <tr style=\"text-align: right;\">\n",
       "      <th></th>\n",
       "      <th>home_team_goal</th>\n",
       "      <th>away_team_goal</th>\n",
       "    </tr>\n",
       "  </thead>\n",
       "  <tbody>\n",
       "    <tr>\n",
       "      <th>0</th>\n",
       "      <td>1</td>\n",
       "      <td>2</td>\n",
       "    </tr>\n",
       "  </tbody>\n",
       "</table>\n",
       "</div>"
      ],
      "text/plain": [
       "   home_team_goal  away_team_goal\n",
       "0               1               2"
      ]
     },
     "execution_count": 8,
     "metadata": {},
     "output_type": "execute_result"
    }
   ],
   "source": [
    "df.head(1)[['home_team_goal', 'away_team_goal']]"
   ]
  },
  {
   "cell_type": "code",
   "execution_count": 9,
   "metadata": {},
   "outputs": [
    {
     "data": {
      "text/plain": [
       "<Element 'goal' at 0x1168b1408>"
      ]
     },
     "execution_count": 9,
     "metadata": {},
     "output_type": "execute_result"
    }
   ],
   "source": [
    "import xml.etree.ElementTree as ET\n",
    "\n",
    "test = ET.fromstring(df.head(1).goal.values[0])\n",
    "test"
   ]
  },
  {
   "cell_type": "code",
   "execution_count": 10,
   "metadata": {},
   "outputs": [
    {
     "name": "stdout",
     "output_type": "stream",
     "text": [
      "8654\n",
      "10\n",
      "8654\n",
      "50\n",
      "8472\n",
      "65\n"
     ]
    }
   ],
   "source": [
    "for neigh in test.findall('value'):\n",
    "    print(neigh.find('team').text)\n",
    "    print(neigh.find('elapsed').text)"
   ]
  },
  {
   "cell_type": "markdown",
   "metadata": {},
   "source": [
    "## Let's pick 60 minutes as the time we care about"
   ]
  },
  {
   "cell_type": "code",
   "execution_count": 11,
   "metadata": {},
   "outputs": [
    {
     "name": "stdout",
     "output_type": "stream",
     "text": [
      "Balls\n",
      "Balls\n"
     ]
    },
    {
     "data": {
      "text/plain": [
       "(0, 0)"
      ]
     },
     "execution_count": 11,
     "metadata": {},
     "output_type": "execute_result"
    }
   ],
   "source": [
    "def score_at_minutes(goal_xml, minutes, home_team_id, away_team_id):\n",
    "    parsed = ET.fromstring(goal_xml)\n",
    "    home_score = 0\n",
    "    away_score = 0\n",
    "    for neigh in parsed.findall('value'):\n",
    "        time = int(neigh.find('elapsed').text)\n",
    "        if time and time < minutes:\n",
    "            try:\n",
    "                goal_type = neigh.find('goal_type').text\n",
    "                if goal_type and goal_type in ('n', 'o', 'p'):\n",
    "                    if int(neigh.find('team').text) == home_team_id:\n",
    "                        home_score += 1\n",
    "                    elif int(neigh.find('team').text) == away_team_id:\n",
    "                        away_score += 1\n",
    "                    else:\n",
    "                        print(\"Balls\")\n",
    "            except:\n",
    "                continue\n",
    "    return home_score, away_score\n",
    "\n",
    "score_at_minutes(df.head(1).goal.values[0], 60, 9788, 9905)"
   ]
  },
  {
   "cell_type": "code",
   "execution_count": 12,
   "metadata": {},
   "outputs": [
    {
     "data": {
      "text/plain": [
       "(0    1\n",
       " Name: home_team_goal, dtype: int64, 0    2\n",
       " Name: away_team_goal, dtype: int64)"
      ]
     },
     "execution_count": 12,
     "metadata": {},
     "output_type": "execute_result"
    }
   ],
   "source": [
    "def final_score(row):\n",
    "    return row.home_team_goal, row.away_team_goal\n",
    "\n",
    "final_score(df.head(1))"
   ]
  },
  {
   "cell_type": "code",
   "execution_count": 13,
   "metadata": {},
   "outputs": [],
   "source": [
    "dicty = {}\n",
    "for index, row in df.iterrows():\n",
    "    score_at_60 = score_at_minutes(\n",
    "        row.goal,\n",
    "        78,\n",
    "        row.home_team_api_id,\n",
    "        row.away_team_api_id\n",
    "    )\n",
    "    score_at_end = final_score(row)\n",
    "    try:\n",
    "        dicty[str(score_at_60)].append(str(score_at_end))\n",
    "    except:\n",
    "        dicty[str(score_at_60)] = [str(score_at_end)]"
   ]
  },
  {
   "cell_type": "code",
   "execution_count": 14,
   "metadata": {},
   "outputs": [
    {
     "data": {
      "text/plain": [
       "44"
      ]
     },
     "execution_count": 14,
     "metadata": {},
     "output_type": "execute_result"
    }
   ],
   "source": [
    "len(dicty)"
   ]
  },
  {
   "cell_type": "code",
   "execution_count": 15,
   "metadata": {},
   "outputs": [
    {
     "data": {
      "text/plain": [
       "dict_keys(['(1, 2)', '(1, 0)', '(2, 1)', '(0, 4)', '(1, 1)', '(2, 2)', '(3, 1)', '(3, 0)', '(2, 0)', '(0, 1)', '(0, 0)', '(3, 2)', '(4, 1)', '(0, 2)', '(0, 3)', '(1, 3)', '(5, 2)', '(4, 0)', '(3, 3)', '(4, 2)', '(2, 3)', '(1, 5)', '(0, 6)', '(1, 4)', '(2, 4)', '(2, 5)', '(6, 3)', '(5, 1)', '(5, 0)', '(4, 4)', '(4, 3)', '(6, 0)', '(5, 3)', '(3, 4)', '(1, 7)', '(7, 1)', '(0, 5)', '(7, 0)', '(2, 7)', '(6, 1)', '(5, 4)', '(1, 6)', '(2, 6)', '(3, 5)'])"
      ]
     },
     "execution_count": 15,
     "metadata": {},
     "output_type": "execute_result"
    }
   ],
   "source": [
    "from collections import Counter\n",
    "\n",
    "dicty.keys()"
   ]
  },
  {
   "cell_type": "code",
   "execution_count": 16,
   "metadata": {},
   "outputs": [],
   "source": [
    "new_dicty = dict((key, Counter(val)) for key, val in dicty.items())"
   ]
  },
  {
   "cell_type": "code",
   "execution_count": 17,
   "metadata": {},
   "outputs": [
    {
     "data": {
      "text/plain": [
       "{'(1, 2)': Counter({'(1, 2)': 196,\n",
       "          '(1, 3)': 66,\n",
       "          '(2, 2)': 68,\n",
       "          '(1, 4)': 8,\n",
       "          '(3, 3)': 2,\n",
       "          '(3, 2)': 14,\n",
       "          '(2, 1)': 12,\n",
       "          '(2, 3)': 10,\n",
       "          '(2, 4)': 1,\n",
       "          '(0, 3)': 3,\n",
       "          '(3, 1)': 5,\n",
       "          '(4, 2)': 1,\n",
       "          '(5, 1)': 1}),\n",
       " '(1, 0)': Counter({'(1, 0)': 516,\n",
       "          '(0, 1)': 14,\n",
       "          '(2, 0)': 170,\n",
       "          '(1, 1)': 146,\n",
       "          '(1, 2)': 24,\n",
       "          '(2, 1)': 35,\n",
       "          '(3, 0)': 24,\n",
       "          '(4, 0)': 9,\n",
       "          '(2, 2)': 4,\n",
       "          '(2, 3)': 1,\n",
       "          '(4, 1)': 1,\n",
       "          '(0, 2)': 2,\n",
       "          '(-1, -1)': 1,\n",
       "          '(3, 1)': 2,\n",
       "          '(1, 3)': 1}),\n",
       " '(2, 1)': Counter({'(3, 1)': 90,\n",
       "          '(2, 1)': 276,\n",
       "          '(5, 1)': 4,\n",
       "          '(2, 2)': 73,\n",
       "          '(4, 1)': 17,\n",
       "          '(3, 2)': 24,\n",
       "          '(4, 2)': 5,\n",
       "          '(1, 2)': 22,\n",
       "          '(5, 0)': 2,\n",
       "          '(1, 3)': 2,\n",
       "          '(2, 3)': 10,\n",
       "          '(3, 0)': 11,\n",
       "          '(3, 3)': 2,\n",
       "          '(4, 0)': 3,\n",
       "          '(2, 4)': 3,\n",
       "          '(4, 3)': 1}),\n",
       " '(0, 4)': Counter({'(0, 4)': 12,\n",
       "          '(1, 4)': 6,\n",
       "          '(2, 3)': 1,\n",
       "          '(0, 5)': 10,\n",
       "          '(2, 6)': 1,\n",
       "          '(1, 5)': 1,\n",
       "          '(2, 4)': 1,\n",
       "          '(3, 6)': 1,\n",
       "          '(2, 5)': 1}),\n",
       " '(1, 1)': Counter({'(1, 2)': 113,\n",
       "          '(2, 1)': 149,\n",
       "          '(1, 1)': 471,\n",
       "          '(1, 3)': 13,\n",
       "          '(0, 3)': 5,\n",
       "          '(2, 2)': 19,\n",
       "          '(3, 2)': 6,\n",
       "          '(2, 0)': 19,\n",
       "          '(3, 1)': 27,\n",
       "          '(1, 4)': 1,\n",
       "          '(0, 2)': 8,\n",
       "          '(3, 0)': 12,\n",
       "          '(4, 1)': 1}),\n",
       " '(2, 2)': Counter({'(3, 3)': 7,\n",
       "          '(2, 2)': 119,\n",
       "          '(2, 3)': 28,\n",
       "          '(3, 1)': 11,\n",
       "          '(3, 2)': 31,\n",
       "          '(1, 4)': 2,\n",
       "          '(1, 3)': 7,\n",
       "          '(4, 1)': 2,\n",
       "          '(2, 4)': 7,\n",
       "          '(4, 3)': 1,\n",
       "          '(4, 2)': 4,\n",
       "          '(5, 1)': 1,\n",
       "          '(3, 5)': 1}),\n",
       " '(3, 1)': Counter({'(4, 1)': 36,\n",
       "          '(3, 1)': 113,\n",
       "          '(4, 2)': 8,\n",
       "          '(3, 2)': 31,\n",
       "          '(4, 0)': 4,\n",
       "          '(5, 1)': 8,\n",
       "          '(2, 2)': 4,\n",
       "          '(2, 3)': 2,\n",
       "          '(6, 0)': 1,\n",
       "          '(6, 2)': 1,\n",
       "          '(6, 1)': 1,\n",
       "          '(3, 3)': 1,\n",
       "          '(5, 0)': 2}),\n",
       " '(3, 0)': Counter({'(3, 0)': 144,\n",
       "          '(4, 1)': 14,\n",
       "          '(3, 1)': 37,\n",
       "          '(4, 0)': 58,\n",
       "          '(2, 1)': 8,\n",
       "          '(4, 2)': 4,\n",
       "          '(2, 3)': 1,\n",
       "          '(6, 1)': 1,\n",
       "          '(2, 2)': 2,\n",
       "          '(5, 0)': 8,\n",
       "          '(5, 1)': 2,\n",
       "          '(6, 0)': 1,\n",
       "          '(3, 2)': 2}),\n",
       " '(2, 0)': Counter({'(2, 0)': 300,\n",
       "          '(3, 0)': 97,\n",
       "          '(4, 0)': 15,\n",
       "          '(2, 1)': 81,\n",
       "          '(2, 2)': 10,\n",
       "          '(3, 1)': 19,\n",
       "          '(1, 1)': 17,\n",
       "          '(4, 1)': 4,\n",
       "          '(3, 3)': 1,\n",
       "          '(5, 0)': 3,\n",
       "          '(2, 3)': 1,\n",
       "          '(3, 2)': 3,\n",
       "          '(1, 2)': 1,\n",
       "          '(0, 3)': 1}),\n",
       " '(0, 1)': Counter({'(0, 1)': 364,\n",
       "          '(1, 1)': 124,\n",
       "          '(2, 1)': 26,\n",
       "          '(1, 0)': 15,\n",
       "          '(0, 2)': 110,\n",
       "          '(1, 2)': 32,\n",
       "          '(2, 2)': 4,\n",
       "          '(2, 0)': 7,\n",
       "          '(0, 3)': 16,\n",
       "          '(1, 3)': 1,\n",
       "          '(3, 1)': 5,\n",
       "          '(0, 4)': 1,\n",
       "          '(5, 3)': 1}),\n",
       " '(0, 0)': Counter({'(0, 0)': 497,\n",
       "          '(2, 0)': 11,\n",
       "          '(0, 1)': 113,\n",
       "          '(1, 0)': 130,\n",
       "          '(1, 1)': 25,\n",
       "          '(0, 2)': 19,\n",
       "          '(1, 2)': 4,\n",
       "          '(2, 1)': 9,\n",
       "          '(0, 3)': 1,\n",
       "          '(2, 2)': 2,\n",
       "          '(-1, -1)': 3,\n",
       "          '(3, 0)': 3}),\n",
       " '(3, 2)': Counter({'(3, 2)': 33,\n",
       "          '(4, 1)': 4,\n",
       "          '(2, 3)': 5,\n",
       "          '(2, 4)': 1,\n",
       "          '(4, 3)': 2,\n",
       "          '(4, 2)': 19,\n",
       "          '(3, 3)': 11,\n",
       "          '(5, 2)': 1,\n",
       "          '(6, 3)': 1,\n",
       "          '(6, 2)': 1,\n",
       "          '(6, 1)': 1,\n",
       "          '(3, 4)': 1}),\n",
       " '(4, 1)': Counter({'(3, 3)': 1,\n",
       "          '(5, 0)': 2,\n",
       "          '(4, 1)': 34,\n",
       "          '(6, 0)': 2,\n",
       "          '(5, 1)': 16,\n",
       "          '(4, 2)': 9,\n",
       "          '(5, 2)': 2,\n",
       "          '(3, 2)': 1,\n",
       "          '(4, 3)': 1,\n",
       "          '(7, 1)': 1,\n",
       "          '(6, 1)': 1}),\n",
       " '(0, 2)': Counter({'(0, 2)': 173,\n",
       "          '(0, 3)': 56,\n",
       "          '(1, 2)': 66,\n",
       "          '(1, 1)': 18,\n",
       "          '(1, 3)': 12,\n",
       "          '(2, 3)': 2,\n",
       "          '(2, 0)': 1,\n",
       "          '(1, 4)': 2,\n",
       "          '(2, 2)': 12,\n",
       "          '(2, 1)': 4,\n",
       "          '(0, 5)': 1,\n",
       "          '(0, 4)': 7,\n",
       "          '(1, 5)': 1,\n",
       "          '(3, 3)': 1}),\n",
       " '(0, 3)': Counter({'(0, 4)': 23,\n",
       "          '(0, 3)': 65,\n",
       "          '(1, 3)': 20,\n",
       "          '(0, 5)': 4,\n",
       "          '(1, 4)': 5,\n",
       "          '(1, 2)': 12,\n",
       "          '(2, 3)': 3,\n",
       "          '(2, 2)': 2}),\n",
       " '(1, 3)': Counter({'(2, 3)': 25,\n",
       "          '(2, 4)': 7,\n",
       "          '(2, 2)': 5,\n",
       "          '(2, 5)': 3,\n",
       "          '(1, 4)': 19,\n",
       "          '(1, 3)': 58,\n",
       "          '(1, 5)': 5,\n",
       "          '(3, 2)': 4,\n",
       "          '(0, 4)': 5,\n",
       "          '(3, 3)': 4,\n",
       "          '(0, 5)': 1}),\n",
       " '(5, 2)': Counter({'(4, 3)': 2, '(6, 2)': 2, '(7, 1)': 1, '(5, 2)': 3}),\n",
       " '(4, 0)': Counter({'(4, 0)': 50,\n",
       "          '(5, 0)': 13,\n",
       "          '(4, 1)': 13,\n",
       "          '(2, 3)': 1,\n",
       "          '(6, 0)': 2,\n",
       "          '(5, 1)': 3,\n",
       "          '(7, 0)': 1,\n",
       "          '(3, 1)': 5,\n",
       "          '(4, 2)': 4,\n",
       "          '(4, 3)': 1,\n",
       "          '(3, 2)': 1}),\n",
       " '(3, 3)': Counter({'(3, 3)': 10,\n",
       "          '(3, 5)': 2,\n",
       "          '(4, 3)': 4,\n",
       "          '(3, 4)': 2,\n",
       "          '(5, 3)': 2,\n",
       "          '(4, 2)': 1,\n",
       "          '(2, 4)': 2,\n",
       "          '(6, 1)': 1,\n",
       "          '(4, 4)': 4,\n",
       "          '(2, 5)': 1,\n",
       "          '(5, 2)': 2,\n",
       "          '(2, 6)': 1}),\n",
       " '(4, 2)': Counter({'(5, 3)': 4,\n",
       "          '(5, 1)': 1,\n",
       "          '(4, 3)': 7,\n",
       "          '(5, 2)': 3,\n",
       "          '(4, 2)': 11,\n",
       "          '(6, 1)': 1,\n",
       "          '(6, 2)': 4,\n",
       "          '(3, 3)': 2,\n",
       "          '(6, 3)': 1}),\n",
       " '(2, 3)': Counter({'(2, 4)': 11,\n",
       "          '(3, 2)': 3,\n",
       "          '(3, 3)': 11,\n",
       "          '(2, 3)': 31,\n",
       "          '(1, 6)': 2,\n",
       "          '(4, 3)': 1,\n",
       "          '(4, 2)': 2,\n",
       "          '(2, 5)': 1,\n",
       "          '(3, 5)': 1,\n",
       "          '(3, 4)': 3,\n",
       "          '(1, 4)': 2}),\n",
       " '(1, 5)': Counter({'(1, 5)': 3,\n",
       "          '(2, 5)': 3,\n",
       "          '(3, 5)': 2,\n",
       "          '(0, 6)': 1,\n",
       "          '(1, 7)': 1,\n",
       "          '(2, 6)': 1}),\n",
       " '(0, 6)': Counter({'(0, 6)': 1}),\n",
       " '(1, 4)': Counter({'(1, 4)': 17,\n",
       "          '(2, 6)': 1,\n",
       "          '(2, 3)': 1,\n",
       "          '(1, 6)': 1,\n",
       "          '(1, 5)': 5,\n",
       "          '(2, 4)': 2}),\n",
       " '(2, 4)': Counter({'(2, 4)': 9,\n",
       "          '(4, 3)': 1,\n",
       "          '(2, 5)': 2,\n",
       "          '(4, 4)': 1,\n",
       "          '(5, 3)': 1,\n",
       "          '(3, 3)': 3}),\n",
       " '(2, 5)': Counter({'(3, 6)': 1, '(2, 6)': 1, '(2, 5)': 1}),\n",
       " '(6, 3)': Counter({'(7, 3)': 2}),\n",
       " '(5, 1)': Counter({'(5, 1)': 14, '(6, 1)': 7, '(6, 2)': 1}),\n",
       " '(5, 0)': Counter({'(5, 0)': 12, '(6, 0)': 3, '(8, 0)': 1, '(6, 1)': 1}),\n",
       " '(4, 4)': Counter({'(3, 6)': 1, '(4, 5)': 1}),\n",
       " '(4, 3)': Counter({'(7, 3)': 1,\n",
       "          '(4, 3)': 4,\n",
       "          '(5, 3)': 2,\n",
       "          '(4, 5)': 1,\n",
       "          '(5, 4)': 1,\n",
       "          '(6, 2)': 1}),\n",
       " '(6, 0)': Counter({'(6, 0)': 3, '(5, 1)': 1}),\n",
       " '(5, 3)': Counter({'(6, 2)': 1}),\n",
       " '(3, 4)': Counter({'(3, 4)': 7, '(4, 5)': 1, '(4, 4)': 1}),\n",
       " '(1, 7)': Counter({'(0, 9)': 1}),\n",
       " '(7, 1)': Counter({'(9, 1)': 1, '(7, 1)': 2}),\n",
       " '(0, 5)': Counter({'(0, 5)': 3, '(2, 5)': 1, '(1, 5)': 3}),\n",
       " '(7, 0)': Counter({'(8, 0)': 3, '(7, 0)': 1}),\n",
       " '(2, 7)': Counter({'(2, 7)': 1}),\n",
       " '(6, 1)': Counter({'(6, 2)': 1}),\n",
       " '(5, 4)': Counter({'(5, 4)': 1}),\n",
       " '(1, 6)': Counter({'(2, 6)': 1, '(1, 7)': 1}),\n",
       " '(2, 6)': Counter({'(2, 6)': 1}),\n",
       " '(3, 5)': Counter({'(3, 5)': 1})}"
      ]
     },
     "execution_count": 17,
     "metadata": {},
     "output_type": "execute_result"
    }
   ],
   "source": [
    "new_dicty"
   ]
  },
  {
   "cell_type": "code",
   "execution_count": 18,
   "metadata": {},
   "outputs": [
    {
     "data": {
      "text/plain": [
       "[('(1, 2)', 869.2307692307692),\n",
       " ('(2, 1)', 1146.1538461538462),\n",
       " ('(1, 1)', 3623.0769230769233),\n",
       " ('(1, 3)', 100.0),\n",
       " ('(0, 3)', 38.46153846153847),\n",
       " ('(2, 2)', 146.15384615384613),\n",
       " ('(3, 2)', 46.15384615384615),\n",
       " ('(2, 0)', 146.15384615384613),\n",
       " ('(3, 1)', 207.6923076923077),\n",
       " ('(1, 4)', 7.6923076923076925),\n",
       " ('(0, 2)', 61.53846153846154),\n",
       " ('(3, 0)', 92.3076923076923),\n",
       " ('(4, 1)', 7.6923076923076925)]"
      ]
     },
     "execution_count": 18,
     "metadata": {},
     "output_type": "execute_result"
    }
   ],
   "source": [
    "[(i, new_dicty['(1, 1)'][i] / len(new_dicty['(1, 1)']) * 100.0) for i in new_dicty['(1, 1)']]"
   ]
  },
  {
   "cell_type": "code",
   "execution_count": 19,
   "metadata": {},
   "outputs": [
    {
     "data": {
      "text/plain": [
       "844"
      ]
     },
     "execution_count": 19,
     "metadata": {},
     "output_type": "execute_result"
    }
   ],
   "source": [
    "sum(new_dicty['(1, 1)'].values())"
   ]
  },
  {
   "cell_type": "code",
   "execution_count": 20,
   "metadata": {},
   "outputs": [
    {
     "name": "stdout",
     "output_type": "stream",
     "text": [
      "(1, 2)\n",
      "(2, 1)\n",
      "(1, 1)\n",
      "(1, 3)\n",
      "(0, 3)\n",
      "(2, 2)\n",
      "(3, 2)\n",
      "(2, 0)\n",
      "(3, 1)\n",
      "(1, 4)\n",
      "(0, 2)\n",
      "(3, 0)\n",
      "(4, 1)\n"
     ]
    }
   ],
   "source": [
    "for key in new_dicty['(1, 1)']:\n",
    "    print(key)"
   ]
  },
  {
   "cell_type": "code",
   "execution_count": 21,
   "metadata": {},
   "outputs": [
    {
     "data": {
      "text/plain": [
       "1"
      ]
     },
     "execution_count": 21,
     "metadata": {},
     "output_type": "execute_result"
    }
   ],
   "source": [
    "new_dicty['(1, 1)']['(1, 4)']"
   ]
  },
  {
   "cell_type": "code",
   "execution_count": 22,
   "metadata": {},
   "outputs": [
    {
     "data": {
      "text/plain": [
       "[('(0, 2)', 0.4859550561797753),\n",
       " ('(1, 2)', 0.1853932584269663),\n",
       " ('(0, 3)', 0.15730337078651685),\n",
       " ('(1, 1)', 0.05056179775280899),\n",
       " ('(1, 3)', 0.033707865168539325),\n",
       " ('(2, 2)', 0.033707865168539325),\n",
       " ('(0, 4)', 0.019662921348314606),\n",
       " ('(2, 1)', 0.011235955056179775),\n",
       " ('(2, 3)', 0.0056179775280898875),\n",
       " ('(1, 4)', 0.0056179775280898875),\n",
       " ('(2, 0)', 0.0028089887640449437),\n",
       " ('(0, 5)', 0.0028089887640449437),\n",
       " ('(1, 5)', 0.0028089887640449437),\n",
       " ('(3, 3)', 0.0028089887640449437)]"
      ]
     },
     "execution_count": 22,
     "metadata": {},
     "output_type": "execute_result"
    }
   ],
   "source": [
    "import operator\n",
    "tah = new_dicty['(0, 2)']\n",
    "sorted([(e, tah[e]/sum(tah.values())) for e in tah], key=lambda x: x[1], reverse=True)"
   ]
  },
  {
   "cell_type": "code",
   "execution_count": 23,
   "metadata": {},
   "outputs": [],
   "source": [
    "small_df = df[df.season != '2018/2019']\n",
    "small_dicty = {}\n",
    "for index, row in small_df.iterrows():\n",
    "    score_at_60 = score_at_minutes(\n",
    "        row.goal,\n",
    "        78,\n",
    "        row.home_team_api_id,\n",
    "        row.away_team_api_id\n",
    "    )\n",
    "    score_at_end = final_score(row)\n",
    "    try:\n",
    "        small_dicty[str(score_at_60)].append(str(score_at_end))\n",
    "    except:\n",
    "        small_dicty[str(score_at_60)] = [str(score_at_end)]\n",
    "        \n",
    "small_new_dicty = dict((key, Counter(val)) for key, val in small_dicty.items())"
   ]
  },
  {
   "cell_type": "code",
   "execution_count": 24,
   "metadata": {},
   "outputs": [
    {
     "data": {
      "text/plain": [
       "[('(2, 0)', 0.55078125),\n",
       " ('(3, 0)', 0.177734375),\n",
       " ('(2, 1)', 0.134765625),\n",
       " ('(3, 1)', 0.037109375),\n",
       " ('(1, 1)', 0.03125),\n",
       " ('(4, 0)', 0.02734375),\n",
       " ('(2, 2)', 0.01953125),\n",
       " ('(3, 2)', 0.005859375),\n",
       " ('(4, 1)', 0.00390625),\n",
       " ('(5, 0)', 0.00390625),\n",
       " ('(3, 3)', 0.001953125),\n",
       " ('(2, 3)', 0.001953125),\n",
       " ('(1, 2)', 0.001953125),\n",
       " ('(0, 3)', 0.001953125)]"
      ]
     },
     "execution_count": 24,
     "metadata": {},
     "output_type": "execute_result"
    }
   ],
   "source": [
    "import operator\n",
    "tah = small_new_dicty['(2, 0)']\n",
    "sorted([(e, tah[e]/sum(tah.values())) for e in tah], key=lambda x: x[1], reverse=True)"
   ]
  },
  {
   "cell_type": "code",
   "execution_count": 25,
   "metadata": {},
   "outputs": [],
   "source": [
    "new_df = df[df.season == '2018/2019']\n",
    "newer_dicty = {}\n",
    "for index, row in new_df.iterrows():\n",
    "    score_at_60 = score_at_minutes(\n",
    "        row.goal,\n",
    "        78,\n",
    "        row.home_team_api_id,\n",
    "        row.away_team_api_id\n",
    "    )\n",
    "    score_at_end = final_score(row)\n",
    "    try:\n",
    "        newer_dicty[str(score_at_60)].append(str(score_at_end))\n",
    "    except:\n",
    "        newer_dicty[str(score_at_60)] = [str(score_at_end)]\n",
    "        \n",
    "new_new_dicty = dict((key, Counter(val)) for key, val in newer_dicty.items())"
   ]
  },
  {
   "cell_type": "code",
   "execution_count": 26,
   "metadata": {},
   "outputs": [
    {
     "data": {
      "text/plain": [
       "{'(3, 1)': Counter({'(3, 1)': 9, '(4, 1)': 2}),\n",
       " '(0, 0)': Counter({'(0, 0)': 37,\n",
       "          '(0, 1)': 8,\n",
       "          '(1, 1)': 1,\n",
       "          '(0, 3)': 1,\n",
       "          '(2, 0)': 2,\n",
       "          '(1, 0)': 6,\n",
       "          '(-1, -1)': 3,\n",
       "          '(2, 1)': 1,\n",
       "          '(0, 2)': 1}),\n",
       " '(1, 2)': Counter({'(1, 2)': 12,\n",
       "          '(2, 2)': 9,\n",
       "          '(3, 1)': 3,\n",
       "          '(1, 3)': 1,\n",
       "          '(3, 2)': 2,\n",
       "          '(2, 3)': 2}),\n",
       " '(1, 0)': Counter({'(1, 1)': 13,\n",
       "          '(2, 0)': 10,\n",
       "          '(1, 0)': 37,\n",
       "          '(2, 1)': 4,\n",
       "          '(-1, -1)': 1,\n",
       "          '(2, 2)': 1,\n",
       "          '(3, 0)': 2,\n",
       "          '(1, 2)': 1}),\n",
       " '(0, 1)': Counter({'(1, 1)': 11,\n",
       "          '(1, 2)': 2,\n",
       "          '(0, 1)': 31,\n",
       "          '(0, 2)': 8,\n",
       "          '(0, 4)': 1,\n",
       "          '(1, 0)': 1,\n",
       "          '(2, 2)': 1,\n",
       "          '(0, 3)': 1,\n",
       "          '(2, 0)': 1}),\n",
       " '(2, 1)': Counter({'(3, 1)': 6,\n",
       "          '(2, 1)': 12,\n",
       "          '(2, 3)': 1,\n",
       "          '(1, 2)': 4,\n",
       "          '(4, 1)': 3,\n",
       "          '(2, 2)': 6,\n",
       "          '(3, 2)': 2}),\n",
       " '(0, 2)': Counter({'(1, 2)': 7,\n",
       "          '(0, 3)': 8,\n",
       "          '(0, 2)': 5,\n",
       "          '(1, 3)': 1,\n",
       "          '(2, 2)': 2}),\n",
       " '(2, 0)': Counter({'(4, 0)': 1,\n",
       "          '(2, 0)': 18,\n",
       "          '(1, 1)': 1,\n",
       "          '(3, 0)': 6,\n",
       "          '(2, 1)': 12,\n",
       "          '(4, 1)': 2,\n",
       "          '(5, 0)': 1}),\n",
       " '(3, 0)': Counter({'(4, 2)': 2,\n",
       "          '(3, 0)': 5,\n",
       "          '(5, 0)': 1,\n",
       "          '(3, 1)': 1,\n",
       "          '(4, 0)': 3,\n",
       "          '(4, 1)': 3}),\n",
       " '(1, 1)': Counter({'(1, 1)': 32,\n",
       "          '(1, 2)': 4,\n",
       "          '(2, 2)': 1,\n",
       "          '(2, 0)': 1,\n",
       "          '(3, 1)': 1,\n",
       "          '(2, 1)': 9,\n",
       "          '(0, 2)': 1,\n",
       "          '(3, 2)': 1,\n",
       "          '(1, 3)': 1}),\n",
       " '(6, 0)': Counter({'(6, 0)': 1}),\n",
       " '(1, 3)': Counter({'(1, 3)': 9,\n",
       "          '(2, 4)': 1,\n",
       "          '(2, 3)': 2,\n",
       "          '(1, 5)': 1,\n",
       "          '(1, 4)': 1,\n",
       "          '(3, 2)': 1}),\n",
       " '(4, 1)': Counter({'(4, 1)': 3, '(6, 1)': 1}),\n",
       " '(4, 0)': Counter({'(4, 1)': 2, '(4, 0)': 2}),\n",
       " '(2, 2)': Counter({'(2, 3)': 2,\n",
       "          '(3, 2)': 3,\n",
       "          '(2, 2)': 8,\n",
       "          '(1, 3)': 1,\n",
       "          '(3, 3)': 1,\n",
       "          '(3, 1)': 1,\n",
       "          '(2, 4)': 1}),\n",
       " '(3, 2)': Counter({'(4, 2)': 1, '(3, 2)': 4, '(3, 3)': 2}),\n",
       " '(4, 2)': Counter({'(6, 1)': 1, '(4, 2)': 1}),\n",
       " '(0, 4)': Counter({'(0, 5)': 1}),\n",
       " '(0, 3)': Counter({'(0, 4)': 2, '(2, 2)': 1, '(0, 3)': 3, '(1, 3)': 1}),\n",
       " '(7, 1)': Counter({'(7, 1)': 1}),\n",
       " '(5, 1)': Counter({'(6, 1)': 1}),\n",
       " '(3, 3)': Counter({'(4, 4)': 2}),\n",
       " '(2, 4)': Counter({'(5, 3)': 1}),\n",
       " '(5, 0)': Counter({'(6, 0)': 1}),\n",
       " '(2, 3)': Counter({'(2, 4)': 1, '(2, 3)': 1, '(3, 3)': 2}),\n",
       " '(1, 6)': Counter({'(2, 6)': 1}),\n",
       " '(1, 4)': Counter({'(2, 4)': 1}),\n",
       " '(2, 6)': Counter({'(2, 6)': 1}),\n",
       " '(0, 5)': Counter({'(1, 5)': 1}),\n",
       " '(4, 3)': Counter({'(5, 3)': 1})}"
      ]
     },
     "execution_count": 26,
     "metadata": {},
     "output_type": "execute_result"
    }
   ],
   "source": [
    "new_new_dicty"
   ]
  },
  {
   "cell_type": "code",
   "execution_count": 27,
   "metadata": {},
   "outputs": [
    {
     "data": {
      "text/plain": [
       "Counter({'(0, 0)': 460,\n",
       "         '(2, 0)': 9,\n",
       "         '(0, 1)': 105,\n",
       "         '(1, 0)': 124,\n",
       "         '(1, 1)': 24,\n",
       "         '(0, 2)': 18,\n",
       "         '(1, 2)': 4,\n",
       "         '(2, 1)': 8,\n",
       "         '(2, 2)': 2,\n",
       "         '(3, 0)': 3})"
      ]
     },
     "execution_count": 27,
     "metadata": {},
     "output_type": "execute_result"
    }
   ],
   "source": [
    "small_new_dicty['(0, 0)']"
   ]
  },
  {
   "cell_type": "code",
   "execution_count": 28,
   "metadata": {},
   "outputs": [
    {
     "data": {
      "text/plain": [
       "Counter({'(0, 0)': 37,\n",
       "         '(0, 1)': 8,\n",
       "         '(1, 1)': 1,\n",
       "         '(0, 3)': 1,\n",
       "         '(2, 0)': 2,\n",
       "         '(1, 0)': 6,\n",
       "         '(-1, -1)': 3,\n",
       "         '(2, 1)': 1,\n",
       "         '(0, 2)': 1})"
      ]
     },
     "execution_count": 28,
     "metadata": {},
     "output_type": "execute_result"
    }
   ],
   "source": [
    "new_new_dicty['(0, 0)']"
   ]
  },
  {
   "cell_type": "code",
   "execution_count": 29,
   "metadata": {},
   "outputs": [
    {
     "data": {
      "text/plain": [
       "[('(3, 0)', 0.5205992509363296),\n",
       " ('(4, 0)', 0.20599250936329588),\n",
       " ('(3, 1)', 0.1348314606741573),\n",
       " ('(4, 1)', 0.04119850187265917),\n",
       " ('(2, 1)', 0.0299625468164794),\n",
       " ('(5, 0)', 0.026217228464419477),\n",
       " ('(2, 2)', 0.00749063670411985),\n",
       " ('(5, 1)', 0.00749063670411985),\n",
       " ('(4, 2)', 0.00749063670411985),\n",
       " ('(3, 2)', 0.00749063670411985),\n",
       " ('(2, 3)', 0.003745318352059925),\n",
       " ('(6, 1)', 0.003745318352059925),\n",
       " ('(6, 0)', 0.003745318352059925)]"
      ]
     },
     "execution_count": 29,
     "metadata": {},
     "output_type": "execute_result"
    }
   ],
   "source": [
    "tah = small_new_dicty['(3, 0)']\n",
    "sorted([(e, tah[e]/sum(tah.values())) for e in tah], key=lambda x: x[1], reverse=True)"
   ]
  },
  {
   "cell_type": "code",
   "execution_count": 30,
   "metadata": {},
   "outputs": [
    {
     "data": {
      "text/plain": [
       "[('(1, 0)', 0.5362318840579711),\n",
       " ('(1, 1)', 0.18840579710144928),\n",
       " ('(2, 0)', 0.14492753623188406),\n",
       " ('(2, 1)', 0.057971014492753624),\n",
       " ('(3, 0)', 0.028985507246376812),\n",
       " ('(-1, -1)', 0.014492753623188406),\n",
       " ('(2, 2)', 0.014492753623188406),\n",
       " ('(1, 2)', 0.014492753623188406)]"
      ]
     },
     "execution_count": 30,
     "metadata": {},
     "output_type": "execute_result"
    }
   ],
   "source": [
    "mah = new_new_dicty['(1, 0)']\n",
    "sorted([(e, mah[e]/sum(mah.values())) for e in mah], key=lambda x: x[1], reverse=True)"
   ]
  },
  {
   "cell_type": "code",
   "execution_count": 31,
   "metadata": {},
   "outputs": [
    {
     "data": {
      "text/plain": [
       "0.11594202898550725"
      ]
     },
     "execution_count": 31,
     "metadata": {},
     "output_type": "execute_result"
    }
   ],
   "source": [
    "sum([mah[e] for e in mah if int(e.split(',')[0].lstrip('()')) + int(e.split(',')[1].rstrip(')').strip()) >= 3]) / sum(mah.values())"
   ]
  },
  {
   "cell_type": "code",
   "execution_count": 32,
   "metadata": {},
   "outputs": [
    {
     "data": {
      "text/plain": [
       "1.0"
      ]
     },
     "execution_count": 32,
     "metadata": {},
     "output_type": "execute_result"
    }
   ],
   "source": [
    "sum([tah[e] for e in tah if int(e.split(',')[0].lstrip('()')) + int(e.split(',')[1].rstrip(')').strip()) >= 3]) / sum(tah.values())"
   ]
  },
  {
   "cell_type": "code",
   "execution_count": 33,
   "metadata": {},
   "outputs": [
    {
     "data": {
      "text/html": [
       "<div>\n",
       "<style scoped>\n",
       "    .dataframe tbody tr th:only-of-type {\n",
       "        vertical-align: middle;\n",
       "    }\n",
       "\n",
       "    .dataframe tbody tr th {\n",
       "        vertical-align: top;\n",
       "    }\n",
       "\n",
       "    .dataframe thead th {\n",
       "        text-align: right;\n",
       "    }\n",
       "</style>\n",
       "<table border=\"1\" class=\"dataframe\">\n",
       "  <thead>\n",
       "    <tr style=\"text-align: right;\">\n",
       "      <th></th>\n",
       "      <th>id</th>\n",
       "      <th>country_id</th>\n",
       "      <th>league_id</th>\n",
       "      <th>season</th>\n",
       "      <th>date</th>\n",
       "      <th>home_team_api_id</th>\n",
       "      <th>home_team_long_name</th>\n",
       "      <th>away_team_api_id</th>\n",
       "      <th>away_team_long_name</th>\n",
       "      <th>home_team_goal</th>\n",
       "      <th>away_team_goal</th>\n",
       "      <th>goal</th>\n",
       "    </tr>\n",
       "  </thead>\n",
       "  <tbody>\n",
       "    <tr>\n",
       "      <th>0</th>\n",
       "      <td>7753</td>\n",
       "      <td>6</td>\n",
       "      <td>8</td>\n",
       "      <td>2013/2014</td>\n",
       "      <td>2014-03-29 00:00:00</td>\n",
       "      <td>8472</td>\n",
       "      <td>Sunderland</td>\n",
       "      <td>8654</td>\n",
       "      <td>West Ham</td>\n",
       "      <td>1</td>\n",
       "      <td>2</td>\n",
       "      <td>&lt;goal&gt;&lt;value&gt;&lt;event_incident_typefk&gt;406&lt;/event...</td>\n",
       "    </tr>\n",
       "    <tr>\n",
       "      <th>1</th>\n",
       "      <td>7766</td>\n",
       "      <td>6</td>\n",
       "      <td>8</td>\n",
       "      <td>2013/2014</td>\n",
       "      <td>2014-04-12 00:00:00</td>\n",
       "      <td>10194</td>\n",
       "      <td>Stoke</td>\n",
       "      <td>10261</td>\n",
       "      <td>Newcastle United</td>\n",
       "      <td>1</td>\n",
       "      <td>0</td>\n",
       "      <td>&lt;goal&gt;&lt;value&gt;&lt;event_incident_typefk&gt;407&lt;/event...</td>\n",
       "    </tr>\n",
       "    <tr>\n",
       "      <th>2</th>\n",
       "      <td>7765</td>\n",
       "      <td>6</td>\n",
       "      <td>8</td>\n",
       "      <td>2013/2014</td>\n",
       "      <td>2014-05-04 00:00:00</td>\n",
       "      <td>10260</td>\n",
       "      <td>Manchester United</td>\n",
       "      <td>8667</td>\n",
       "      <td>Hull</td>\n",
       "      <td>3</td>\n",
       "      <td>1</td>\n",
       "      <td>&lt;goal&gt;&lt;value&gt;&lt;event_incident_typefk&gt;411&lt;/event...</td>\n",
       "    </tr>\n",
       "    <tr>\n",
       "      <th>3</th>\n",
       "      <td>7754</td>\n",
       "      <td>6</td>\n",
       "      <td>8</td>\n",
       "      <td>2013/2014</td>\n",
       "      <td>2014-03-29 00:00:00</td>\n",
       "      <td>10194</td>\n",
       "      <td>Stoke</td>\n",
       "      <td>8667</td>\n",
       "      <td>Hull</td>\n",
       "      <td>1</td>\n",
       "      <td>0</td>\n",
       "      <td>&lt;goal&gt;&lt;value&gt;&lt;event_incident_typefk&gt;80&lt;/event_...</td>\n",
       "    </tr>\n",
       "    <tr>\n",
       "      <th>4</th>\n",
       "      <td>8472</td>\n",
       "      <td>6</td>\n",
       "      <td>8</td>\n",
       "      <td>2012/2013</td>\n",
       "      <td>2012-12-01 00:00:00</td>\n",
       "      <td>9850</td>\n",
       "      <td>Norwich</td>\n",
       "      <td>8472</td>\n",
       "      <td>Sunderland</td>\n",
       "      <td>2</td>\n",
       "      <td>1</td>\n",
       "      <td>&lt;goal&gt;&lt;value&gt;&lt;event_incident_typefk&gt;393&lt;/event...</td>\n",
       "    </tr>\n",
       "  </tbody>\n",
       "</table>\n",
       "</div>"
      ],
      "text/plain": [
       "     id  country_id  league_id     season                 date  \\\n",
       "0  7753           6          8  2013/2014  2014-03-29 00:00:00   \n",
       "1  7766           6          8  2013/2014  2014-04-12 00:00:00   \n",
       "2  7765           6          8  2013/2014  2014-05-04 00:00:00   \n",
       "3  7754           6          8  2013/2014  2014-03-29 00:00:00   \n",
       "4  8472           6          8  2012/2013  2012-12-01 00:00:00   \n",
       "\n",
       "   home_team_api_id home_team_long_name  away_team_api_id away_team_long_name  \\\n",
       "0              8472          Sunderland              8654            West Ham   \n",
       "1             10194               Stoke             10261    Newcastle United   \n",
       "2             10260   Manchester United              8667                Hull   \n",
       "3             10194               Stoke              8667                Hull   \n",
       "4              9850             Norwich              8472          Sunderland   \n",
       "\n",
       "   home_team_goal  away_team_goal  \\\n",
       "0               1               2   \n",
       "1               1               0   \n",
       "2               3               1   \n",
       "3               1               0   \n",
       "4               2               1   \n",
       "\n",
       "                                                goal  \n",
       "0  <goal><value><event_incident_typefk>406</event...  \n",
       "1  <goal><value><event_incident_typefk>407</event...  \n",
       "2  <goal><value><event_incident_typefk>411</event...  \n",
       "3  <goal><value><event_incident_typefk>80</event_...  \n",
       "4  <goal><value><event_incident_typefk>393</event...  "
      ]
     },
     "execution_count": 33,
     "metadata": {},
     "output_type": "execute_result"
    }
   ],
   "source": [
    "df.head()"
   ]
  },
  {
   "cell_type": "markdown",
   "metadata": {},
   "source": [
    "## ELO"
   ]
  },
  {
   "cell_type": "code",
   "execution_count": 41,
   "metadata": {},
   "outputs": [],
   "source": [
    "HISTORY = 10\n",
    "k_factor = 32\n",
    "elo_width = 400.\n",
    "\n",
    "def calculate_new_elos(rating_a, rating_b, score_a, k_factor, elo_width):\n",
    "    \"\"\"Calculates and returns the new Elo ratings for two players.\n",
    "    score_a is 1 for a win by player A, 0 for a loss by player A, or 0.5 for a draw.\n",
    "    \"\"\"\n",
    "\n",
    "    e_a = expected_result(rating_a, rating_b, elo_width)\n",
    "    e_b = 1. - e_a\n",
    "    new_rating_a = rating_a + k_factor * (score_a - e_a)\n",
    "    score_b = 1. - score_a\n",
    "    new_rating_b = rating_b + k_factor * (score_b - e_b)\n",
    "    return new_rating_a, new_rating_b\n",
    "    \n",
    "\n",
    "def expected_result(elo_a, elo_b, elo_width):\n",
    "    \"\"\"\n",
    "    https://en.wikipedia.org/wiki/Elo_rating_system#Mathematical_details\n",
    "    \"\"\"\n",
    "    expect_a = 1.0/(1+10**((elo_b - elo_a)/elo_width))\n",
    "    return expect_a\n",
    "\n",
    "\n",
    "def update_end_of_season(elos):\n",
    "    \"\"\"Regression towards the mean\n",
    "    \n",
    "    Following 538 nfl methods\n",
    "    https://fivethirtyeight.com/datalab/nfl-elo-ratings-are-back/\n",
    "    \"\"\"\n",
    "    diff_from_mean = elos - np.mean(elos)\n",
    "    elos -= diff_from_mean/3\n",
    "    return elos"
   ]
  },
  {
   "cell_type": "code",
   "execution_count": 35,
   "metadata": {},
   "outputs": [
    {
     "data": {
      "text/plain": [
       "Index(['id', 'country_id', 'league_id', 'season', 'date', 'home_team_api_id',\n",
       "       'home_team_long_name', 'away_team_api_id', 'away_team_long_name',\n",
       "       'home_team_goal', 'away_team_goal', 'goal'],\n",
       "      dtype='object')"
      ]
     },
     "execution_count": 35,
     "metadata": {},
     "output_type": "execute_result"
    }
   ],
   "source": [
    "df.columns"
   ]
  },
  {
   "cell_type": "code",
   "execution_count": 36,
   "metadata": {},
   "outputs": [
    {
     "name": "stderr",
     "output_type": "stream",
     "text": [
      "/usr/local/lib/python3.7/site-packages/pandas/core/frame.py:3790: SettingWithCopyWarning: \n",
      "A value is trying to be set on a copy of a slice from a DataFrame\n",
      "\n",
      "See the caveats in the documentation: http://pandas.pydata.org/pandas-docs/stable/indexing.html#indexing-view-versus-copy\n",
      "  downcast=downcast, **kwargs)\n"
     ]
    },
    {
     "name": "stdout",
     "output_type": "stream",
     "text": [
      "New season\n",
      "New season\n",
      "New season\n",
      "New season\n",
      "New season\n",
      "New season\n",
      "New season\n",
      "New season\n",
      "New season\n",
      "New season\n",
      "New season\n",
      "New season\n",
      "New season\n",
      "New season\n",
      "New season\n",
      "New season\n",
      "New season\n",
      "New season\n",
      "New season\n",
      "New season\n",
      "New season\n",
      "New season\n",
      "New season\n",
      "New season\n",
      "New season\n",
      "New season\n",
      "New season\n",
      "New season\n",
      "New season\n",
      "New season\n",
      "New season\n",
      "New season\n",
      "New season\n",
      "New season\n",
      "New season\n"
     ]
    }
   ],
   "source": [
    "def build_season_teams(frame, season, previous_elos=None):\n",
    "    season_teams = pd.DataFrame(pd.unique(frame[frame.season == season][['home_team_long_name', 'away_team_long_name']].values.ravel('K')), columns=['home_team_long_name'])\n",
    "#    season_teams = frame[frame.season == season].home_team_long_name.drop_duplicates().reset_index()\n",
    "    season_teams.loc[:, 'elo'] = 1000\n",
    "    if previous_elos is not None:\n",
    "        meany = np.mean(previous_elos.elo)\n",
    "        previous_elos.loc[:, 'updated_elo'] = previous_elos.elo.apply(lambda x: x - (x - meany)/3)\n",
    "        joiny = season_teams.merge(previous_elos, how='left', left_on='home_team_long_name', right_on='team_long_name')\n",
    "        season_teams = joiny[['home_team_long_name', 'updated_elo']]\n",
    "        season_teams.columns = ['home_team_long_name', 'elo']\n",
    "        season_teams.fillna(1000., inplace=True)\n",
    "    season_teams = season_teams[['home_team_long_name', 'elo']]\n",
    "    season_teams.columns = ['team_long_name', 'elo']\n",
    "    return season_teams\n",
    "\n",
    "\n",
    "def calculate_result(row):\n",
    "    if row.home_team_goal > row.away_team_goal:\n",
    "        return 1\n",
    "    elif row.home_team_goal == row.away_team_goal:\n",
    "        return 0.5\n",
    "    else:\n",
    "        return 0\n",
    "\n",
    "df.loc[:, 'home_elo'] = 1000.\n",
    "df.loc[:, 'away_elo'] = 1000.\n",
    "for key, frame in df.groupby(['country_id', 'league_id']):\n",
    "    country, league = key\n",
    "    sorted_frame = frame.sort_values(by='date')\n",
    "    earliest_season = sorted_frame.head(1).season.values[0]\n",
    "    season_frame = build_season_teams(sorted_frame, earliest_season)\n",
    "    for index, row in sorted_frame.iterrows():\n",
    "        new_season = row.season\n",
    "        if new_season != earliest_season:\n",
    "            earliest_season = new_season\n",
    "            season_frame = build_season_teams(sorted_frame, new_season, season_frame)\n",
    "            print(\"New season\")\n",
    "        \n",
    "        home = row.home_team_long_name\n",
    "        away = row.away_team_long_name\n",
    "        home_elo = season_frame[season_frame.team_long_name == home].elo.values[0]\n",
    "        away_elo = season_frame[season_frame.team_long_name == away].elo.values[0]\n",
    "        df.loc[df.id == row.id, 'home_elo'] = home_elo\n",
    "        df.loc[df.id == row.id, 'away_elo'] = away_elo\n",
    "        expected_results = expected_result(home_elo, away_elo, elo_width)\n",
    "        result = calculate_result(row)\n",
    "        new_home_elo, new_away_elo = calculate_new_elos(home_elo, away_elo, result, k_factor, elo_width)\n",
    "        season_frame.loc[season_frame.team_long_name == home, 'elo'] = new_home_elo\n",
    "        season_frame.loc[season_frame.team_long_name == away, 'elo'] = new_away_elo\n",
    "            \n",
    "        "
   ]
  },
  {
   "cell_type": "code",
   "execution_count": 37,
   "metadata": {},
   "outputs": [
    {
     "data": {
      "text/html": [
       "<div>\n",
       "<style scoped>\n",
       "    .dataframe tbody tr th:only-of-type {\n",
       "        vertical-align: middle;\n",
       "    }\n",
       "\n",
       "    .dataframe tbody tr th {\n",
       "        vertical-align: top;\n",
       "    }\n",
       "\n",
       "    .dataframe thead th {\n",
       "        text-align: right;\n",
       "    }\n",
       "</style>\n",
       "<table border=\"1\" class=\"dataframe\">\n",
       "  <thead>\n",
       "    <tr style=\"text-align: right;\">\n",
       "      <th></th>\n",
       "      <th>id</th>\n",
       "      <th>country_id</th>\n",
       "      <th>league_id</th>\n",
       "      <th>season</th>\n",
       "      <th>date</th>\n",
       "      <th>home_team_api_id</th>\n",
       "      <th>home_team_long_name</th>\n",
       "      <th>away_team_api_id</th>\n",
       "      <th>away_team_long_name</th>\n",
       "      <th>home_team_goal</th>\n",
       "      <th>away_team_goal</th>\n",
       "      <th>goal</th>\n",
       "      <th>home_elo</th>\n",
       "      <th>away_elo</th>\n",
       "    </tr>\n",
       "  </thead>\n",
       "  <tbody>\n",
       "    <tr>\n",
       "      <th>0</th>\n",
       "      <td>7753</td>\n",
       "      <td>6</td>\n",
       "      <td>8</td>\n",
       "      <td>2013/2014</td>\n",
       "      <td>2014-03-29 00:00:00</td>\n",
       "      <td>8472</td>\n",
       "      <td>Sunderland</td>\n",
       "      <td>8654</td>\n",
       "      <td>West Ham</td>\n",
       "      <td>1</td>\n",
       "      <td>2</td>\n",
       "      <td>&lt;goal&gt;&lt;value&gt;&lt;event_incident_typefk&gt;406&lt;/event...</td>\n",
       "      <td>981.965594</td>\n",
       "      <td>972.570717</td>\n",
       "    </tr>\n",
       "    <tr>\n",
       "      <th>1</th>\n",
       "      <td>7766</td>\n",
       "      <td>6</td>\n",
       "      <td>8</td>\n",
       "      <td>2013/2014</td>\n",
       "      <td>2014-04-12 00:00:00</td>\n",
       "      <td>10194</td>\n",
       "      <td>Stoke</td>\n",
       "      <td>10261</td>\n",
       "      <td>Newcastle United</td>\n",
       "      <td>1</td>\n",
       "      <td>0</td>\n",
       "      <td>&lt;goal&gt;&lt;value&gt;&lt;event_incident_typefk&gt;407&lt;/event...</td>\n",
       "      <td>977.639499</td>\n",
       "      <td>970.314256</td>\n",
       "    </tr>\n",
       "    <tr>\n",
       "      <th>2</th>\n",
       "      <td>7765</td>\n",
       "      <td>6</td>\n",
       "      <td>8</td>\n",
       "      <td>2013/2014</td>\n",
       "      <td>2014-05-04 00:00:00</td>\n",
       "      <td>10260</td>\n",
       "      <td>Manchester United</td>\n",
       "      <td>8667</td>\n",
       "      <td>Hull</td>\n",
       "      <td>3</td>\n",
       "      <td>1</td>\n",
       "      <td>&lt;goal&gt;&lt;value&gt;&lt;event_incident_typefk&gt;411&lt;/event...</td>\n",
       "      <td>1076.975539</td>\n",
       "      <td>971.063257</td>\n",
       "    </tr>\n",
       "    <tr>\n",
       "      <th>3</th>\n",
       "      <td>7754</td>\n",
       "      <td>6</td>\n",
       "      <td>8</td>\n",
       "      <td>2013/2014</td>\n",
       "      <td>2014-03-29 00:00:00</td>\n",
       "      <td>10194</td>\n",
       "      <td>Stoke</td>\n",
       "      <td>8667</td>\n",
       "      <td>Hull</td>\n",
       "      <td>1</td>\n",
       "      <td>0</td>\n",
       "      <td>&lt;goal&gt;&lt;value&gt;&lt;event_incident_typefk&gt;80&lt;/event_...</td>\n",
       "      <td>961.061327</td>\n",
       "      <td>973.621643</td>\n",
       "    </tr>\n",
       "    <tr>\n",
       "      <th>4</th>\n",
       "      <td>8472</td>\n",
       "      <td>6</td>\n",
       "      <td>8</td>\n",
       "      <td>2012/2013</td>\n",
       "      <td>2012-12-01 00:00:00</td>\n",
       "      <td>9850</td>\n",
       "      <td>Norwich</td>\n",
       "      <td>8472</td>\n",
       "      <td>Sunderland</td>\n",
       "      <td>2</td>\n",
       "      <td>1</td>\n",
       "      <td>&lt;goal&gt;&lt;value&gt;&lt;event_incident_typefk&gt;393&lt;/event...</td>\n",
       "      <td>1015.063435</td>\n",
       "      <td>985.278237</td>\n",
       "    </tr>\n",
       "  </tbody>\n",
       "</table>\n",
       "</div>"
      ],
      "text/plain": [
       "     id  country_id  league_id     season                 date  \\\n",
       "0  7753           6          8  2013/2014  2014-03-29 00:00:00   \n",
       "1  7766           6          8  2013/2014  2014-04-12 00:00:00   \n",
       "2  7765           6          8  2013/2014  2014-05-04 00:00:00   \n",
       "3  7754           6          8  2013/2014  2014-03-29 00:00:00   \n",
       "4  8472           6          8  2012/2013  2012-12-01 00:00:00   \n",
       "\n",
       "   home_team_api_id home_team_long_name  away_team_api_id away_team_long_name  \\\n",
       "0              8472          Sunderland              8654            West Ham   \n",
       "1             10194               Stoke             10261    Newcastle United   \n",
       "2             10260   Manchester United              8667                Hull   \n",
       "3             10194               Stoke              8667                Hull   \n",
       "4              9850             Norwich              8472          Sunderland   \n",
       "\n",
       "   home_team_goal  away_team_goal  \\\n",
       "0               1               2   \n",
       "1               1               0   \n",
       "2               3               1   \n",
       "3               1               0   \n",
       "4               2               1   \n",
       "\n",
       "                                                goal     home_elo    away_elo  \n",
       "0  <goal><value><event_incident_typefk>406</event...   981.965594  972.570717  \n",
       "1  <goal><value><event_incident_typefk>407</event...   977.639499  970.314256  \n",
       "2  <goal><value><event_incident_typefk>411</event...  1076.975539  971.063257  \n",
       "3  <goal><value><event_incident_typefk>80</event_...   961.061327  973.621643  \n",
       "4  <goal><value><event_incident_typefk>393</event...  1015.063435  985.278237  "
      ]
     },
     "execution_count": 37,
     "metadata": {},
     "output_type": "execute_result"
    }
   ],
   "source": [
    "df.head()"
   ]
  },
  {
   "cell_type": "code",
   "execution_count": 38,
   "metadata": {},
   "outputs": [
    {
     "data": {
      "text/html": [
       "<div>\n",
       "<style scoped>\n",
       "    .dataframe tbody tr th:only-of-type {\n",
       "        vertical-align: middle;\n",
       "    }\n",
       "\n",
       "    .dataframe tbody tr th {\n",
       "        vertical-align: top;\n",
       "    }\n",
       "\n",
       "    .dataframe thead th {\n",
       "        text-align: right;\n",
       "    }\n",
       "</style>\n",
       "<table border=\"1\" class=\"dataframe\">\n",
       "  <thead>\n",
       "    <tr style=\"text-align: right;\">\n",
       "      <th></th>\n",
       "      <th>id</th>\n",
       "      <th>country_id</th>\n",
       "      <th>league_id</th>\n",
       "      <th>season</th>\n",
       "      <th>date</th>\n",
       "      <th>home_team_api_id</th>\n",
       "      <th>home_team_long_name</th>\n",
       "      <th>away_team_api_id</th>\n",
       "      <th>away_team_long_name</th>\n",
       "      <th>home_team_goal</th>\n",
       "      <th>away_team_goal</th>\n",
       "      <th>goal</th>\n",
       "      <th>home_elo</th>\n",
       "      <th>away_elo</th>\n",
       "    </tr>\n",
       "  </thead>\n",
       "  <tbody>\n",
       "    <tr>\n",
       "      <th>2613</th>\n",
       "      <td>9730</td>\n",
       "      <td>7</td>\n",
       "      <td>9</td>\n",
       "      <td>2017/2018</td>\n",
       "      <td>2018-04-29 00:00:00</td>\n",
       "      <td>9847</td>\n",
       "      <td>Paris Saint-Germain</td>\n",
       "      <td>9747</td>\n",
       "      <td>Guingamp</td>\n",
       "      <td>2</td>\n",
       "      <td>2</td>\n",
       "      <td>&lt;goal&gt;&lt;value&gt;&lt;event_incident_typefk&gt;39&lt;/event_...</td>\n",
       "      <td>1233.759736</td>\n",
       "      <td>952.676943</td>\n",
       "    </tr>\n",
       "    <tr>\n",
       "      <th>5597</th>\n",
       "      <td>16433</td>\n",
       "      <td>10</td>\n",
       "      <td>15</td>\n",
       "      <td>2015/2016</td>\n",
       "      <td>2016-04-16 00:00:00</td>\n",
       "      <td>9885</td>\n",
       "      <td>Juventus</td>\n",
       "      <td>8540</td>\n",
       "      <td>Palermo</td>\n",
       "      <td>4</td>\n",
       "      <td>0</td>\n",
       "      <td>&lt;goal&gt;&lt;value&gt;&lt;event_incident_typefk&gt;411&lt;/event...</td>\n",
       "      <td>1235.951515</td>\n",
       "      <td>883.940895</td>\n",
       "    </tr>\n",
       "    <tr>\n",
       "      <th>2333</th>\n",
       "      <td>13163</td>\n",
       "      <td>8</td>\n",
       "      <td>12</td>\n",
       "      <td>2014/2015</td>\n",
       "      <td>2015-05-23 00:00:00</td>\n",
       "      <td>8634</td>\n",
       "      <td>Barcelona</td>\n",
       "      <td>9783</td>\n",
       "      <td>Deportivo La Coruna</td>\n",
       "      <td>2</td>\n",
       "      <td>2</td>\n",
       "      <td>&lt;goal&gt;&lt;value&gt;&lt;event_incident_typefk&gt;406&lt;/event...</td>\n",
       "      <td>1239.647373</td>\n",
       "      <td>986.909490</td>\n",
       "    </tr>\n",
       "    <tr>\n",
       "      <th>1809</th>\n",
       "      <td>8567</td>\n",
       "      <td>6</td>\n",
       "      <td>8</td>\n",
       "      <td>2017/2018</td>\n",
       "      <td>2018-03-04 00:00:00</td>\n",
       "      <td>8456</td>\n",
       "      <td>Manchester City</td>\n",
       "      <td>8455</td>\n",
       "      <td>Chelsea</td>\n",
       "      <td>1</td>\n",
       "      <td>0</td>\n",
       "      <td>&lt;goal&gt;&lt;value&gt;&lt;event_incident_typefk&gt;393&lt;/event...</td>\n",
       "      <td>1245.105838</td>\n",
       "      <td>1091.685850</td>\n",
       "    </tr>\n",
       "    <tr>\n",
       "      <th>72</th>\n",
       "      <td>8632</td>\n",
       "      <td>6</td>\n",
       "      <td>8</td>\n",
       "      <td>2017/2018</td>\n",
       "      <td>2018-05-09 00:00:00</td>\n",
       "      <td>8456</td>\n",
       "      <td>Manchester City</td>\n",
       "      <td>10204</td>\n",
       "      <td>Brighton</td>\n",
       "      <td>3</td>\n",
       "      <td>1</td>\n",
       "      <td>&lt;goal&gt;&lt;value&gt;&lt;event_incident_typefk&gt;393&lt;/event...</td>\n",
       "      <td>1259.126906</td>\n",
       "      <td>962.006253</td>\n",
       "    </tr>\n",
       "  </tbody>\n",
       "</table>\n",
       "</div>"
      ],
      "text/plain": [
       "         id  country_id  league_id     season                 date  \\\n",
       "2613   9730           7          9  2017/2018  2018-04-29 00:00:00   \n",
       "5597  16433          10         15  2015/2016  2016-04-16 00:00:00   \n",
       "2333  13163           8         12  2014/2015  2015-05-23 00:00:00   \n",
       "1809   8567           6          8  2017/2018  2018-03-04 00:00:00   \n",
       "72     8632           6          8  2017/2018  2018-05-09 00:00:00   \n",
       "\n",
       "      home_team_api_id  home_team_long_name  away_team_api_id  \\\n",
       "2613              9847  Paris Saint-Germain              9747   \n",
       "5597              9885             Juventus              8540   \n",
       "2333              8634            Barcelona              9783   \n",
       "1809              8456      Manchester City              8455   \n",
       "72                8456      Manchester City             10204   \n",
       "\n",
       "      away_team_long_name  home_team_goal  away_team_goal  \\\n",
       "2613             Guingamp               2               2   \n",
       "5597              Palermo               4               0   \n",
       "2333  Deportivo La Coruna               2               2   \n",
       "1809              Chelsea               1               0   \n",
       "72               Brighton               3               1   \n",
       "\n",
       "                                                   goal     home_elo  \\\n",
       "2613  <goal><value><event_incident_typefk>39</event_...  1233.759736   \n",
       "5597  <goal><value><event_incident_typefk>411</event...  1235.951515   \n",
       "2333  <goal><value><event_incident_typefk>406</event...  1239.647373   \n",
       "1809  <goal><value><event_incident_typefk>393</event...  1245.105838   \n",
       "72    <goal><value><event_incident_typefk>393</event...  1259.126906   \n",
       "\n",
       "         away_elo  \n",
       "2613   952.676943  \n",
       "5597   883.940895  \n",
       "2333   986.909490  \n",
       "1809  1091.685850  \n",
       "72     962.006253  "
      ]
     },
     "execution_count": 38,
     "metadata": {},
     "output_type": "execute_result"
    }
   ],
   "source": [
    "df.sort_values(by='home_elo').tail()"
   ]
  },
  {
   "cell_type": "code",
   "execution_count": 39,
   "metadata": {},
   "outputs": [
    {
     "data": {
      "text/plain": [
       "1.5398599314558188"
      ]
     },
     "execution_count": 39,
     "metadata": {},
     "output_type": "execute_result"
    }
   ],
   "source": [
    "np.mean(df.home_team_goal)"
   ]
  },
  {
   "cell_type": "code",
   "execution_count": 40,
   "metadata": {},
   "outputs": [
    {
     "data": {
      "text/plain": [
       "1.1701683802711966"
      ]
     },
     "execution_count": 40,
     "metadata": {},
     "output_type": "execute_result"
    }
   ],
   "source": [
    "np.mean(df.away_team_goal)"
   ]
  },
  {
   "cell_type": "code",
   "execution_count": 74,
   "metadata": {},
   "outputs": [],
   "source": [
    "HOME_TEAM_BASE = np.mean(df.home_team_goal)\n",
    "AWAY_TEAM_BASE = np.mean(df.away_team_goal)\n",
    "\n",
    "k_factor = 32\n",
    "score_k_factor = 0.05\n",
    "\n",
    "def calculate_new_elos_score(rating_a, rating_b, score_a, home, k_factor):\n",
    "    \"\"\"Calculates and returns the new Elo ratings for two players.\n",
    "    score_a is 1 for a win by player A, 0 for a loss by player A, or 0.5 for a draw.\n",
    "    \"\"\"\n",
    "    if home:\n",
    "        e_a = expected_result_score(rating_a, rating_b, HOME_TEAM_BASE)\n",
    "    else:\n",
    "        e_a = expected_result_score(rating_a, rating_b, AWAY_TEAM_BASE)\n",
    "    new_rating_a = rating_a + (k_factor * (score_a - e_a))\n",
    "    new_rating_b = rating_b + (k_factor * (e_a - score_a))\n",
    "    return new_rating_a, new_rating_b\n",
    "    \n",
    "\n",
    "def expected_result_score(elo_a, elo_b, base):\n",
    "    \"\"\"\n",
    "    https://en.wikipedia.org/wiki/Elo_rating_system#Mathematical_details\n",
    "    \"\"\"\n",
    "    expect_a = (elo_a/base) * (elo_b/base) * base\n",
    "    return expect_a\n",
    "\n",
    "\n",
    "def update_end_of_season(elos):\n",
    "    \"\"\"Regression towards the mean\n",
    "    \n",
    "    Following 538 nfl methods\n",
    "    https://fivethirtyeight.com/datalab/nfl-elo-ratings-are-back/\n",
    "    \"\"\"\n",
    "    diff_from_mean = elos - np.mean(elos)\n",
    "    elos -= diff_from_mean/3\n",
    "    return elos"
   ]
  },
  {
   "cell_type": "code",
   "execution_count": null,
   "metadata": {},
   "outputs": [],
   "source": []
  },
  {
   "cell_type": "code",
   "execution_count": 75,
   "metadata": {},
   "outputs": [
    {
     "name": "stdout",
     "output_type": "stream",
     "text": [
      "New season\n",
      "New season\n",
      "New season\n",
      "New season\n",
      "New season\n",
      "New season\n",
      "New season\n",
      "New season\n",
      "New season\n",
      "New season\n",
      "New season\n",
      "New season\n",
      "New season\n",
      "New season\n",
      "New season\n",
      "New season\n",
      "New season\n",
      "New season\n",
      "New season\n",
      "New season\n",
      "New season\n",
      "New season\n",
      "New season\n",
      "New season\n",
      "New season\n",
      "New season\n",
      "New season\n",
      "New season\n",
      "New season\n",
      "New season\n",
      "New season\n",
      "New season\n",
      "New season\n",
      "New season\n",
      "New season\n"
     ]
    }
   ],
   "source": [
    "def build_season_frame(frame, season, base_score, previous_elos=None):\n",
    "    season_teams = pd.DataFrame(pd.unique(frame[frame.season == season][['home_team_long_name', 'away_team_long_name']].values.ravel('K')), columns=['home_team_long_name'])\n",
    "    season_teams.loc[:, 'elo'] = base_score\n",
    "    if previous_elos is not None:\n",
    "        meany = np.mean(previous_elos.elo)\n",
    "        previous_elos.loc[:, 'updated_elo'] = previous_elos.elo.apply(lambda x: x - (x - meany)/3)\n",
    "        joiny = season_teams.merge(previous_elos, how='left', left_on='home_team_long_name', right_on='team_long_name')\n",
    "        season_teams = joiny[['home_team_long_name', 'updated_elo']]\n",
    "        season_teams.columns = ['home_team_long_name', 'elo']\n",
    "        season_teams.fillna(base_score, inplace=True)\n",
    "    season_teams = season_teams[['home_team_long_name', 'elo']]\n",
    "    season_teams.columns = ['team_long_name', 'elo']\n",
    "    return season_teams\n",
    "\n",
    "def get_elos(frame, names):\n",
    "    return [frame[frame.team_long_name == entry].elo.values[0] for entry in names]\n",
    "\n",
    "df.loc[:, 'home_elo'] = 1000.\n",
    "df.loc[:, 'away_elo'] = 1000.\n",
    "df.loc[:, 'home_attack_elo'] = HOME_TEAM_BASE\n",
    "df.loc[:, 'home_defence_elo'] = AWAY_TEAM_BASE\n",
    "df.loc[:, 'away_attack_elo'] = AWAY_TEAM_BASE\n",
    "df.loc[:, 'away_defence_elo'] = HOME_TEAM_BASE\n",
    "\n",
    "for key, frame in df.groupby(['country_id', 'league_id']):\n",
    "    country, league = key\n",
    "    sorted_frame = frame.sort_values(by='date')\n",
    "    earliest_season = sorted_frame.head(1).season.values[0]\n",
    "    season_frame = build_season_frame(sorted_frame, earliest_season, 1000.)\n",
    "    home_attack_frame = build_season_frame(sorted_frame, earliest_season, HOME_TEAM_BASE)\n",
    "    away_attack_frame = build_season_frame(sorted_frame, earliest_season, AWAY_TEAM_BASE)\n",
    "    home_defence_frame = build_season_frame(sorted_frame, earliest_season, AWAY_TEAM_BASE)\n",
    "    away_defence_frame = build_season_frame(sorted_frame, earliest_season, HOME_TEAM_BASE)    \n",
    "    for index, row in sorted_frame.iterrows():\n",
    "        new_season = row.season\n",
    "        if new_season != earliest_season:\n",
    "            earliest_season = new_season\n",
    "            season_frame = build_season_frame(sorted_frame, new_season, 1000., season_frame)\n",
    "            home_attack_frame = build_season_frame(sorted_frame, new_season, HOME_TEAM_BASE, home_attack_frame)\n",
    "            away_attack_frame = build_season_frame(sorted_frame, new_season, AWAY_TEAM_BASE, away_attack_frame)\n",
    "            home_defence_frame = build_season_frame(sorted_frame, new_season, AWAY_TEAM_BASE, home_defence_frame)\n",
    "            away_defence_frame = build_season_frame(sorted_frame, new_season, HOME_TEAM_BASE, away_defence_frame)                \n",
    "            print(\"New season\")\n",
    "        \n",
    "        home = row.home_team_long_name\n",
    "        away = row.away_team_long_name\n",
    "        home_elo, away_elo = get_elos(season_frame, (home, away))\n",
    "        home_attack_elo = get_elos(home_attack_frame, (home,))[0]\n",
    "        home_defence_elo = get_elos(home_defence_frame, (home,))[0]\n",
    "        away_attack_elo = get_elos(away_attack_frame, (away,))[0]\n",
    "        away_defence_elo = get_elos(away_defence_frame, (away,))[0]\n",
    "        df.loc[df.id == row.id, 'home_elo'] = home_elo\n",
    "        df.loc[df.id == row.id, 'away_elo'] = away_elo\n",
    "        df.loc[df.id == row.id, 'home_attack_elo'] = home_attack_elo\n",
    "        df.loc[df.id == row.id, 'away_attack_elo'] = away_attack_elo\n",
    "        df.loc[df.id == row.id, 'home_defence_elo'] = home_defence_elo\n",
    "        df.loc[df.id == row.id, 'away_defence_elo'] = away_defence_elo        \n",
    "        expected_results = expected_result(home_elo, away_elo, elo_width)\n",
    "        result = calculate_result(row)\n",
    "        new_home_elo, new_away_elo = calculate_new_elos(home_elo, away_elo, result, k_factor, elo_width)\n",
    "        season_frame.loc[season_frame.team_long_name == home, 'elo'] = new_home_elo\n",
    "        season_frame.loc[season_frame.team_long_name == away, 'elo'] = new_away_elo\n",
    "        \n",
    "        home_team_goals = row.home_team_goal\n",
    "        away_team_goals = row.away_team_goal\n",
    "        if home_team_goals >= 0 and away_team_goals >= 0:\n",
    "            new_home_attack_elo, new_away_defence_elo = calculate_new_elos_score(home_attack_elo, away_defence_elo, home_team_goals, True, score_k_factor)\n",
    "            new_away_attack_elo, new_home_defence_elo = calculate_new_elos_score(away_attack_elo, home_defence_elo, away_team_goals, False, score_k_factor)        \n",
    "            home_attack_frame.loc[home_attack_frame.team_long_name == home, 'elo'] = new_home_attack_elo\n",
    "            home_defence_frame.loc[home_defence_frame.team_long_name == home, 'elo'] = new_home_defence_elo\n",
    "            away_attack_frame.loc[away_attack_frame.team_long_name == away, 'elo'] = new_away_attack_elo\n",
    "            away_defence_frame.loc[away_defence_frame.team_long_name == away, 'elo'] = new_away_defence_elo\n",
    "        \n"
   ]
  },
  {
   "cell_type": "code",
   "execution_count": 48,
   "metadata": {},
   "outputs": [
    {
     "data": {
      "text/plain": [
       "'Wigan'"
      ]
     },
     "execution_count": 48,
     "metadata": {},
     "output_type": "execute_result"
    }
   ],
   "source": [
    "home"
   ]
  },
  {
   "cell_type": "code",
   "execution_count": 79,
   "metadata": {},
   "outputs": [
    {
     "data": {
      "text/html": [
       "<div>\n",
       "<style scoped>\n",
       "    .dataframe tbody tr th:only-of-type {\n",
       "        vertical-align: middle;\n",
       "    }\n",
       "\n",
       "    .dataframe tbody tr th {\n",
       "        vertical-align: top;\n",
       "    }\n",
       "\n",
       "    .dataframe thead th {\n",
       "        text-align: right;\n",
       "    }\n",
       "</style>\n",
       "<table border=\"1\" class=\"dataframe\">\n",
       "  <thead>\n",
       "    <tr style=\"text-align: right;\">\n",
       "      <th></th>\n",
       "      <th>id</th>\n",
       "      <th>country_id</th>\n",
       "      <th>league_id</th>\n",
       "      <th>season</th>\n",
       "      <th>date</th>\n",
       "      <th>home_team_api_id</th>\n",
       "      <th>home_team_long_name</th>\n",
       "      <th>away_team_api_id</th>\n",
       "      <th>away_team_long_name</th>\n",
       "      <th>home_team_goal</th>\n",
       "      <th>away_team_goal</th>\n",
       "      <th>goal</th>\n",
       "      <th>home_elo</th>\n",
       "      <th>away_elo</th>\n",
       "      <th>home_attack_elo</th>\n",
       "      <th>home_defence_elo</th>\n",
       "      <th>away_attack_elo</th>\n",
       "      <th>away_defence_elo</th>\n",
       "    </tr>\n",
       "  </thead>\n",
       "  <tbody>\n",
       "    <tr>\n",
       "      <th>1003</th>\n",
       "      <td>12994</td>\n",
       "      <td>8</td>\n",
       "      <td>12</td>\n",
       "      <td>2013/2014</td>\n",
       "      <td>2014-05-11 00:00:00</td>\n",
       "      <td>10268</td>\n",
       "      <td>Elche</td>\n",
       "      <td>8634</td>\n",
       "      <td>Barcelona</td>\n",
       "      <td>0</td>\n",
       "      <td>0</td>\n",
       "      <td>&lt;goal /&gt;</td>\n",
       "      <td>986.531861</td>\n",
       "      <td>1219.210201</td>\n",
       "      <td>1.283977</td>\n",
       "      <td>1.397135</td>\n",
       "      <td>1.987517</td>\n",
       "      <td>2.015811</td>\n",
       "    </tr>\n",
       "    <tr>\n",
       "      <th>2783</th>\n",
       "      <td>13629</td>\n",
       "      <td>8</td>\n",
       "      <td>12</td>\n",
       "      <td>2017/2018</td>\n",
       "      <td>2018-04-15 00:00:00</td>\n",
       "      <td>9864</td>\n",
       "      <td>Malaga</td>\n",
       "      <td>8633</td>\n",
       "      <td>Real Madrid</td>\n",
       "      <td>1</td>\n",
       "      <td>2</td>\n",
       "      <td>&lt;goal&gt;&lt;value&gt;&lt;event_incident_typefk&gt;130&lt;/event...</td>\n",
       "      <td>958.331329</td>\n",
       "      <td>1151.473392</td>\n",
       "      <td>1.221288</td>\n",
       "      <td>1.841394</td>\n",
       "      <td>1.987844</td>\n",
       "      <td>2.691767</td>\n",
       "    </tr>\n",
       "    <tr>\n",
       "      <th>4859</th>\n",
       "      <td>13810</td>\n",
       "      <td>8</td>\n",
       "      <td>12</td>\n",
       "      <td>2017/2018</td>\n",
       "      <td>2018-02-03 00:00:00</td>\n",
       "      <td>8558</td>\n",
       "      <td>Espanyol</td>\n",
       "      <td>8634</td>\n",
       "      <td>Barcelona</td>\n",
       "      <td>1</td>\n",
       "      <td>1</td>\n",
       "      <td>&lt;goal&gt;&lt;value&gt;&lt;event_incident_typefk&gt;406&lt;/event...</td>\n",
       "      <td>1032.303306</td>\n",
       "      <td>1202.686491</td>\n",
       "      <td>1.045890</td>\n",
       "      <td>1.158506</td>\n",
       "      <td>1.995339</td>\n",
       "      <td>3.568150</td>\n",
       "    </tr>\n",
       "    <tr>\n",
       "      <th>151</th>\n",
       "      <td>7882</td>\n",
       "      <td>6</td>\n",
       "      <td>8</td>\n",
       "      <td>2013/2014</td>\n",
       "      <td>2014-05-03 00:00:00</td>\n",
       "      <td>9826</td>\n",
       "      <td>Crystal Palace</td>\n",
       "      <td>8650</td>\n",
       "      <td>Liverpool</td>\n",
       "      <td>3</td>\n",
       "      <td>3</td>\n",
       "      <td>&lt;goal&gt;&lt;value&gt;&lt;event_incident_typefk&gt;406&lt;/event...</td>\n",
       "      <td>1010.637765</td>\n",
       "      <td>1110.398595</td>\n",
       "      <td>1.325585</td>\n",
       "      <td>0.999890</td>\n",
       "      <td>2.031528</td>\n",
       "      <td>1.782979</td>\n",
       "    </tr>\n",
       "    <tr>\n",
       "      <th>4733</th>\n",
       "      <td>13753</td>\n",
       "      <td>8</td>\n",
       "      <td>12</td>\n",
       "      <td>2017/2018</td>\n",
       "      <td>2018-05-13 00:00:00</td>\n",
       "      <td>8581</td>\n",
       "      <td>Levante</td>\n",
       "      <td>8634</td>\n",
       "      <td>Barcelona</td>\n",
       "      <td>5</td>\n",
       "      <td>4</td>\n",
       "      <td>&lt;goal&gt;&lt;value&gt;&lt;event_incident_typefk&gt;721&lt;/event...</td>\n",
       "      <td>1030.937006</td>\n",
       "      <td>1215.386139</td>\n",
       "      <td>1.349976</td>\n",
       "      <td>1.287625</td>\n",
       "      <td>2.098235</td>\n",
       "      <td>3.787309</td>\n",
       "    </tr>\n",
       "  </tbody>\n",
       "</table>\n",
       "</div>"
      ],
      "text/plain": [
       "         id  country_id  league_id     season                 date  \\\n",
       "1003  12994           8         12  2013/2014  2014-05-11 00:00:00   \n",
       "2783  13629           8         12  2017/2018  2018-04-15 00:00:00   \n",
       "4859  13810           8         12  2017/2018  2018-02-03 00:00:00   \n",
       "151    7882           6          8  2013/2014  2014-05-03 00:00:00   \n",
       "4733  13753           8         12  2017/2018  2018-05-13 00:00:00   \n",
       "\n",
       "      home_team_api_id home_team_long_name  away_team_api_id  \\\n",
       "1003             10268               Elche              8634   \n",
       "2783              9864              Malaga              8633   \n",
       "4859              8558            Espanyol              8634   \n",
       "151               9826      Crystal Palace              8650   \n",
       "4733              8581             Levante              8634   \n",
       "\n",
       "     away_team_long_name  home_team_goal  away_team_goal  \\\n",
       "1003           Barcelona               0               0   \n",
       "2783         Real Madrid               1               2   \n",
       "4859           Barcelona               1               1   \n",
       "151            Liverpool               3               3   \n",
       "4733           Barcelona               5               4   \n",
       "\n",
       "                                                   goal     home_elo  \\\n",
       "1003                                           <goal />   986.531861   \n",
       "2783  <goal><value><event_incident_typefk>130</event...   958.331329   \n",
       "4859  <goal><value><event_incident_typefk>406</event...  1032.303306   \n",
       "151   <goal><value><event_incident_typefk>406</event...  1010.637765   \n",
       "4733  <goal><value><event_incident_typefk>721</event...  1030.937006   \n",
       "\n",
       "         away_elo  home_attack_elo  home_defence_elo  away_attack_elo  \\\n",
       "1003  1219.210201         1.283977          1.397135         1.987517   \n",
       "2783  1151.473392         1.221288          1.841394         1.987844   \n",
       "4859  1202.686491         1.045890          1.158506         1.995339   \n",
       "151   1110.398595         1.325585          0.999890         2.031528   \n",
       "4733  1215.386139         1.349976          1.287625         2.098235   \n",
       "\n",
       "      away_defence_elo  \n",
       "1003          2.015811  \n",
       "2783          2.691767  \n",
       "4859          3.568150  \n",
       "151           1.782979  \n",
       "4733          3.787309  "
      ]
     },
     "execution_count": 79,
     "metadata": {},
     "output_type": "execute_result"
    }
   ],
   "source": [
    "df.sort_values(by='away_attack_elo').tail()"
   ]
  },
  {
   "cell_type": "code",
   "execution_count": 50,
   "metadata": {},
   "outputs": [
    {
     "ename": "IndexError",
     "evalue": "index 0 is out of bounds for axis 0 with size 0",
     "output_type": "error",
     "traceback": [
      "\u001b[0;31m---------------------------------------------------------------------------\u001b[0m",
      "\u001b[0;31mIndexError\u001b[0m                                Traceback (most recent call last)",
      "\u001b[0;32m<ipython-input-50-a0326b7e53fe>\u001b[0m in \u001b[0;36m<module>\u001b[0;34m\u001b[0m\n\u001b[0;32m----> 1\u001b[0;31m \u001b[0mhome_attack_elo\u001b[0m \u001b[0;34m=\u001b[0m \u001b[0mget_elos\u001b[0m\u001b[0;34m(\u001b[0m\u001b[0mhome_attack_frame\u001b[0m\u001b[0;34m,\u001b[0m \u001b[0;34m(\u001b[0m\u001b[0mhome\u001b[0m\u001b[0;34m)\u001b[0m\u001b[0;34m)\u001b[0m\u001b[0;34m\u001b[0m\u001b[0;34m\u001b[0m\u001b[0m\n\u001b[0m",
      "\u001b[0;32m<ipython-input-45-f77cf9c9978a>\u001b[0m in \u001b[0;36mget_elos\u001b[0;34m(frame, names)\u001b[0m\n\u001b[1;32m     14\u001b[0m \u001b[0;34m\u001b[0m\u001b[0m\n\u001b[1;32m     15\u001b[0m \u001b[0;32mdef\u001b[0m \u001b[0mget_elos\u001b[0m\u001b[0;34m(\u001b[0m\u001b[0mframe\u001b[0m\u001b[0;34m,\u001b[0m \u001b[0mnames\u001b[0m\u001b[0;34m)\u001b[0m\u001b[0;34m:\u001b[0m\u001b[0;34m\u001b[0m\u001b[0;34m\u001b[0m\u001b[0m\n\u001b[0;32m---> 16\u001b[0;31m     \u001b[0;32mreturn\u001b[0m \u001b[0;34m[\u001b[0m\u001b[0mframe\u001b[0m\u001b[0;34m[\u001b[0m\u001b[0mframe\u001b[0m\u001b[0;34m.\u001b[0m\u001b[0mteam_long_name\u001b[0m \u001b[0;34m==\u001b[0m \u001b[0mentry\u001b[0m\u001b[0;34m]\u001b[0m\u001b[0;34m.\u001b[0m\u001b[0melo\u001b[0m\u001b[0;34m.\u001b[0m\u001b[0mvalues\u001b[0m\u001b[0;34m[\u001b[0m\u001b[0;36m0\u001b[0m\u001b[0;34m]\u001b[0m \u001b[0;32mfor\u001b[0m \u001b[0mentry\u001b[0m \u001b[0;32min\u001b[0m \u001b[0mnames\u001b[0m\u001b[0;34m]\u001b[0m\u001b[0;34m\u001b[0m\u001b[0;34m\u001b[0m\u001b[0m\n\u001b[0m\u001b[1;32m     17\u001b[0m \u001b[0;34m\u001b[0m\u001b[0m\n\u001b[1;32m     18\u001b[0m \u001b[0mdf\u001b[0m\u001b[0;34m.\u001b[0m\u001b[0mloc\u001b[0m\u001b[0;34m[\u001b[0m\u001b[0;34m:\u001b[0m\u001b[0;34m,\u001b[0m \u001b[0;34m'home_elo'\u001b[0m\u001b[0;34m]\u001b[0m \u001b[0;34m=\u001b[0m \u001b[0;36m1000.\u001b[0m\u001b[0;34m\u001b[0m\u001b[0;34m\u001b[0m\u001b[0m\n",
      "\u001b[0;32m<ipython-input-45-f77cf9c9978a>\u001b[0m in \u001b[0;36m<listcomp>\u001b[0;34m(.0)\u001b[0m\n\u001b[1;32m     14\u001b[0m \u001b[0;34m\u001b[0m\u001b[0m\n\u001b[1;32m     15\u001b[0m \u001b[0;32mdef\u001b[0m \u001b[0mget_elos\u001b[0m\u001b[0;34m(\u001b[0m\u001b[0mframe\u001b[0m\u001b[0;34m,\u001b[0m \u001b[0mnames\u001b[0m\u001b[0;34m)\u001b[0m\u001b[0;34m:\u001b[0m\u001b[0;34m\u001b[0m\u001b[0;34m\u001b[0m\u001b[0m\n\u001b[0;32m---> 16\u001b[0;31m     \u001b[0;32mreturn\u001b[0m \u001b[0;34m[\u001b[0m\u001b[0mframe\u001b[0m\u001b[0;34m[\u001b[0m\u001b[0mframe\u001b[0m\u001b[0;34m.\u001b[0m\u001b[0mteam_long_name\u001b[0m \u001b[0;34m==\u001b[0m \u001b[0mentry\u001b[0m\u001b[0;34m]\u001b[0m\u001b[0;34m.\u001b[0m\u001b[0melo\u001b[0m\u001b[0;34m.\u001b[0m\u001b[0mvalues\u001b[0m\u001b[0;34m[\u001b[0m\u001b[0;36m0\u001b[0m\u001b[0;34m]\u001b[0m \u001b[0;32mfor\u001b[0m \u001b[0mentry\u001b[0m \u001b[0;32min\u001b[0m \u001b[0mnames\u001b[0m\u001b[0;34m]\u001b[0m\u001b[0;34m\u001b[0m\u001b[0;34m\u001b[0m\u001b[0m\n\u001b[0m\u001b[1;32m     17\u001b[0m \u001b[0;34m\u001b[0m\u001b[0m\n\u001b[1;32m     18\u001b[0m \u001b[0mdf\u001b[0m\u001b[0;34m.\u001b[0m\u001b[0mloc\u001b[0m\u001b[0;34m[\u001b[0m\u001b[0;34m:\u001b[0m\u001b[0;34m,\u001b[0m \u001b[0;34m'home_elo'\u001b[0m\u001b[0;34m]\u001b[0m \u001b[0;34m=\u001b[0m \u001b[0;36m1000.\u001b[0m\u001b[0;34m\u001b[0m\u001b[0;34m\u001b[0m\u001b[0m\n",
      "\u001b[0;31mIndexError\u001b[0m: index 0 is out of bounds for axis 0 with size 0"
     ]
    }
   ],
   "source": [
    "home_attack_elo = get_elos(home_attack_frame, (home))"
   ]
  },
  {
   "cell_type": "code",
   "execution_count": 53,
   "metadata": {},
   "outputs": [
    {
     "data": {
      "text/plain": [
       "1.5398599314558188"
      ]
     },
     "execution_count": 53,
     "metadata": {},
     "output_type": "execute_result"
    }
   ],
   "source": [
    "home_attack_frame[home_attack_frame.team_long_name == 'Wigan'].elo.values[0]"
   ]
  },
  {
   "cell_type": "code",
   "execution_count": 56,
   "metadata": {},
   "outputs": [],
   "source": [
    "nice = ('Wigan',)"
   ]
  },
  {
   "cell_type": "code",
   "execution_count": 57,
   "metadata": {},
   "outputs": [
    {
     "data": {
      "text/plain": [
       "[1.5398599314558188]"
      ]
     },
     "execution_count": 57,
     "metadata": {},
     "output_type": "execute_result"
    }
   ],
   "source": [
    "[home_attack_frame[home_attack_frame.team_long_name == entry].elo.values[0] for entry in nice]"
   ]
  },
  {
   "cell_type": "code",
   "execution_count": null,
   "metadata": {},
   "outputs": [],
   "source": []
  }
 ],
 "metadata": {
  "kernelspec": {
   "display_name": "Python 3",
   "language": "python",
   "name": "python3"
  },
  "language_info": {
   "codemirror_mode": {
    "name": "ipython",
    "version": 3
   },
   "file_extension": ".py",
   "mimetype": "text/x-python",
   "name": "python",
   "nbconvert_exporter": "python",
   "pygments_lexer": "ipython3",
   "version": "3.7.1"
  }
 },
 "nbformat": 4,
 "nbformat_minor": 2
}
